{
 "cells": [
  {
   "cell_type": "markdown",
   "metadata": {},
   "source": [
    "# Capstone Project 1"
   ]
  },
  {
   "cell_type": "markdown",
   "metadata": {},
   "source": [
    "## Title: Prediction of electricity rates (cost/Kwh) and consumption\n",
    "### Author: Elizabeth Izarra"
   ]
  },
  {
   "cell_type": "markdown",
   "metadata": {},
   "source": [
    "### Problem:\n",
    "Electricity has a very dynamic market price since it is a commodity that is essential for daily life and \n",
    "non-storable where generation and demand must be continuously balanced. This is turn make it dependable of the \n",
    "weather conditions.    "
   ]
  },
  {
   "cell_type": "markdown",
   "metadata": {},
   "source": [
    "### Data:\n",
    "\n",
    "U.S. Energy Information Administration (EIA)\n",
    "\n",
    "Data Sets:\n",
    "- Net Generation\n",
    "- Electricity - Sales (consumption), revenue, prices & customers\n",
    "- Average cost of fossil fuels delivered by state\n",
    "- Consumption of fuels used to generate electricity\n",
    "- Electricity Stock price\n",
    " "
   ]
  },
  {
   "cell_type": "markdown",
   "metadata": {},
   "source": [
    "### ---------------------------------------------------------------------------------------------------"
   ]
  },
  {
   "cell_type": "code",
   "execution_count": 9,
   "metadata": {},
   "outputs": [],
   "source": [
    "# import the relevant modules\n",
    "import requests\n",
    "from pandas.io.json import json_normalize\n",
    "import pandas as pd\n",
    "%matplotlib inline\n",
    "import numpy as np\n",
    "import matplotlib.pyplot as plt\n",
    "import seaborn as sns"
   ]
  },
  {
   "cell_type": "code",
   "execution_count": 10,
   "metadata": {},
   "outputs": [],
   "source": [
    "def get_data_from_url(API_query):\n",
    "    # Package the request, send the request and catch the response: r\n",
    "    r=requests.get(API_query)\n",
    "\n",
    "    # Inspect the JSON structure, and exploration of how nested it is,\n",
    "    # as well as the overall structure\n",
    "\n",
    "    # Decode the JSON data into a dictionary: json_data\n",
    "    json_data=r.json()\n",
    "    return json_data"
   ]
  },
  {
   "cell_type": "markdown",
   "metadata": {},
   "source": [
    "### Exploring U.S. Energy Information Administration (EIA)"
   ]
  },
  {
   "cell_type": "code",
   "execution_count": 11,
   "metadata": {},
   "outputs": [],
   "source": [
    "API_KEY='a32b693a24d623394f601a1c4262fb10'"
   ]
  },
  {
   "cell_type": "code",
   "execution_count": 12,
   "metadata": {},
   "outputs": [],
   "source": [
    "#Exploring the available variables\n",
    "categoryID='0'\n",
    "#Call the EIA API and pull out the data categories\n",
    "url='http://api.eia.gov/category/?api_key='+API_KEY+'&category_id='+categoryID\n",
    "json_data=get_data_from_url(url)"
   ]
  },
  {
   "cell_type": "code",
   "execution_count": 13,
   "metadata": {},
   "outputs": [
    {
     "data": {
      "text/html": [
       "<div>\n",
       "<style scoped>\n",
       "    .dataframe tbody tr th:only-of-type {\n",
       "        vertical-align: middle;\n",
       "    }\n",
       "\n",
       "    .dataframe tbody tr th {\n",
       "        vertical-align: top;\n",
       "    }\n",
       "\n",
       "    .dataframe thead th {\n",
       "        text-align: right;\n",
       "    }\n",
       "</style>\n",
       "<table border=\"1\" class=\"dataframe\">\n",
       "  <thead>\n",
       "    <tr style=\"text-align: right;\">\n",
       "      <th></th>\n",
       "      <th>category_id</th>\n",
       "      <th>name</th>\n",
       "    </tr>\n",
       "  </thead>\n",
       "  <tbody>\n",
       "    <tr>\n",
       "      <th>0</th>\n",
       "      <td>1</td>\n",
       "      <td>Net generation</td>\n",
       "    </tr>\n",
       "    <tr>\n",
       "      <th>1</th>\n",
       "      <td>32</td>\n",
       "      <td>Total consumption (Btu)</td>\n",
       "    </tr>\n",
       "    <tr>\n",
       "      <th>2</th>\n",
       "      <td>33</td>\n",
       "      <td>Consumption for electricity generation (Btu)</td>\n",
       "    </tr>\n",
       "    <tr>\n",
       "      <th>3</th>\n",
       "      <td>34</td>\n",
       "      <td>Consumption for useful thermal output (Btu)</td>\n",
       "    </tr>\n",
       "    <tr>\n",
       "      <th>4</th>\n",
       "      <td>35</td>\n",
       "      <td>Total consumption</td>\n",
       "    </tr>\n",
       "    <tr>\n",
       "      <th>5</th>\n",
       "      <td>36</td>\n",
       "      <td>Consumption for electricity generation</td>\n",
       "    </tr>\n",
       "    <tr>\n",
       "      <th>6</th>\n",
       "      <td>37</td>\n",
       "      <td>Consumption for useful thermal output</td>\n",
       "    </tr>\n",
       "    <tr>\n",
       "      <th>7</th>\n",
       "      <td>38</td>\n",
       "      <td>Retail sales of electricity</td>\n",
       "    </tr>\n",
       "    <tr>\n",
       "      <th>8</th>\n",
       "      <td>39</td>\n",
       "      <td>Revenue from retail sales of electricity</td>\n",
       "    </tr>\n",
       "    <tr>\n",
       "      <th>9</th>\n",
       "      <td>40</td>\n",
       "      <td>Average retail price of electricity</td>\n",
       "    </tr>\n",
       "    <tr>\n",
       "      <th>10</th>\n",
       "      <td>1017</td>\n",
       "      <td>Plant level data</td>\n",
       "    </tr>\n",
       "    <tr>\n",
       "      <th>11</th>\n",
       "      <td>41137</td>\n",
       "      <td>Fossil-fuel stocks for electricity generation</td>\n",
       "    </tr>\n",
       "    <tr>\n",
       "      <th>12</th>\n",
       "      <td>41138</td>\n",
       "      <td>Receipts of fossil fuels by electricity plants</td>\n",
       "    </tr>\n",
       "    <tr>\n",
       "      <th>13</th>\n",
       "      <td>41139</td>\n",
       "      <td>Receipts of fossil fuels by electricity plants...</td>\n",
       "    </tr>\n",
       "    <tr>\n",
       "      <th>14</th>\n",
       "      <td>41140</td>\n",
       "      <td>Average cost of fossil fuels for electricity g...</td>\n",
       "    </tr>\n",
       "    <tr>\n",
       "      <th>15</th>\n",
       "      <td>41141</td>\n",
       "      <td>Average cost of fossil fuels for electricity g...</td>\n",
       "    </tr>\n",
       "    <tr>\n",
       "      <th>16</th>\n",
       "      <td>41142</td>\n",
       "      <td>Quality of fossil fuels in electricity generat...</td>\n",
       "    </tr>\n",
       "    <tr>\n",
       "      <th>17</th>\n",
       "      <td>41143</td>\n",
       "      <td>Quality of fossil fuels in electricity generat...</td>\n",
       "    </tr>\n",
       "    <tr>\n",
       "      <th>18</th>\n",
       "      <td>1718389</td>\n",
       "      <td>Number of customer accounts</td>\n",
       "    </tr>\n",
       "  </tbody>\n",
       "</table>\n",
       "</div>"
      ],
      "text/plain": [
       "    category_id                                               name\n",
       "0             1                                     Net generation\n",
       "1            32                            Total consumption (Btu)\n",
       "2            33       Consumption for electricity generation (Btu)\n",
       "3            34        Consumption for useful thermal output (Btu)\n",
       "4            35                                  Total consumption\n",
       "5            36             Consumption for electricity generation\n",
       "6            37              Consumption for useful thermal output\n",
       "7            38                        Retail sales of electricity\n",
       "8            39           Revenue from retail sales of electricity\n",
       "9            40                Average retail price of electricity\n",
       "10         1017                                   Plant level data\n",
       "11        41137      Fossil-fuel stocks for electricity generation\n",
       "12        41138     Receipts of fossil fuels by electricity plants\n",
       "13        41139  Receipts of fossil fuels by electricity plants...\n",
       "14        41140  Average cost of fossil fuels for electricity g...\n",
       "15        41141  Average cost of fossil fuels for electricity g...\n",
       "16        41142  Quality of fossil fuels in electricity generat...\n",
       "17        41143  Quality of fossil fuels in electricity generat...\n",
       "18      1718389                        Number of customer accounts"
      ]
     },
     "execution_count": 13,
     "metadata": {},
     "output_type": "execute_result"
    }
   ],
   "source": [
    "#Getting the childcategories into a DataFrame\n",
    "df_cat_IDs_0=json_normalize(json_data['category']['childcategories'])\n",
    "df_cat_IDs_0"
   ]
  },
  {
   "cell_type": "code",
   "execution_count": 14,
   "metadata": {},
   "outputs": [],
   "source": [
    "    #Checking for childseries availability\n",
    "    def childseries_check(cat_idx):\n",
    "        categoryID=str(df_cat_IDs_0.iloc[cat_idx,0]) \n",
    "        \n",
    "\n",
    "        ##API for series name exploration\n",
    "        url='http://api.eia.gov/category/?api_key='+API_KEY+'&category_id='+categoryID\n",
    "        json_data=get_data_from_url(url)\n",
    "\n",
    "        df_ser_ID=json_normalize(json_data['category']['childseries'])\n",
    "        \n",
    "        return(df_ser_ID)"
   ]
  },
  {
   "cell_type": "code",
   "execution_count": 15,
   "metadata": {},
   "outputs": [],
   "source": [
    "#Getting series \n",
    "\n",
    "def get_series(idx, f, start, end):\n",
    "       \n",
    "        categoryID=str(df_cat_IDs_0.iloc[idx,0]) \n",
    "        variable=df_cat_IDs_0['name'][idx]\n",
    "\n",
    "        #API for series name exploration\n",
    "        url='http://api.eia.gov/category/?api_key='+API_KEY+'&category_id='+categoryID\n",
    "        json_data=get_data_from_url(url)\n",
    "\n",
    "        df_ser_ID=json_normalize(json_data['category']['childseries'])\n",
    "\n",
    "        #API for series name exploration\n",
    "        url='http://api.eia.gov/category/?api_key='+API_KEY+'&category_id='+categoryID\n",
    "        json_data=get_data_from_url(url)\n",
    "\n",
    "        df_ser_ID=json_normalize(json_data['category']['childseries'])\n",
    "\n",
    "        #getting the series ID for the monthly reporting per state\n",
    "        #print(f, df_ser_ID.keys())\n",
    "        ser_IDs=df_ser_ID[df_ser_ID['f'].str.contains(f)]\n",
    "\n",
    "        #print(ser_IDs.head(), categoryID, variable) \n",
    "\n",
    "        #Getting series\n",
    "\n",
    "        for i in range(len(ser_IDs)):\n",
    "            #Building API\n",
    "            seriesID=str(ser_IDs.iloc[i,2]) \n",
    "            url='http://api.eia.gov/series/?series_id='+seriesID+'&api_key='+API_KEY+'&start='+start+'&end='+end\n",
    "            #Retriving data from URL\n",
    "            json_data=get_data_from_url(url)\n",
    "            #Extracting information of interest\n",
    "            h1=json_normalize(json_data,['series'])\n",
    "            h=json_normalize(json_data,['series',['data']])\n",
    "           \n",
    "            #try: print(h1['iso3166']) \n",
    "            #except: print('geography='+h1['geography'])\n",
    "          \n",
    "        \n",
    "            #Adding names to columns\n",
    "            h.columns=['date',variable]\n",
    "            h['geography']=h1['geography']\n",
    "            h['unit']=h1['units']\n",
    "            try: h['iso3166']=h1['iso3166']\n",
    "            except:h['iso3166']='N/A'\n",
    "            \n",
    "            #Chaging column positions\n",
    "            g=pd.concat([h['date'],h['geography'],h['iso3166'], h[variable],h['unit']],axis=1)\n",
    "            \n",
    "            \n",
    "            #Adding missing data\n",
    "            g.fillna(method='ffill', inplace=True)\n",
    "            #seriesID, json_data, g\n",
    "            \n",
    "            if i==0:\n",
    "                df_data_cat=g\n",
    "            else:\n",
    "\n",
    "                df_data_cat=df_data_cat.append(g, ignore_index=True, sort=False)\n",
    "        \n",
    "        return df_data_cat"
   ]
  },
  {
   "cell_type": "code",
   "execution_count": 16,
   "metadata": {},
   "outputs": [],
   "source": [
    "#Getting data from Energy Information Administration (EIA)¶\n",
    "\n",
    "\n",
    "def get_eia_data(variables_idx, f,start, end):\n",
    "    c_flag=0\n",
    "    for idx in variables_idx:\n",
    "        variable=df_cat_IDs_0['name'][idx]\n",
    "        if  childseries_check(idx).empty:\n",
    "            print(variable+' - does not have childseries available')\n",
    "        else:    \n",
    "            print(variable+' - OK')\n",
    "            df_data_cat=get_series(idx, f, start, end)\n",
    "            if c_flag==0:\n",
    "                df_data=df_data_cat\n",
    "                c_flag=1\n",
    "            else:\n",
    "            \n",
    "                #Mergin df2 with dictionary Values{code: name} from previous exercise\n",
    "                df_data=df_data.merge(df_data_cat, how='outer', left_on=['date','geography','iso3166'], \n",
    "                                      right_on=['date','geography','iso3166'])\n",
    "    return df_data\n",
    "    "
   ]
  },
  {
   "cell_type": "markdown",
   "metadata": {},
   "source": [
    "#### Exploring Annual Data from 2013"
   ]
  },
  {
   "cell_type": "code",
   "execution_count": 17,
   "metadata": {},
   "outputs": [
    {
     "name": "stdout",
     "output_type": "stream",
     "text": [
      "Net generation - OK\n",
      "Total consumption (Btu) - does not have childseries available\n",
      "Consumption for electricity generation (Btu) - does not have childseries available\n",
      "Consumption for useful thermal output (Btu) - does not have childseries available\n",
      "Total consumption - does not have childseries available\n",
      "Consumption for electricity generation - does not have childseries available\n",
      "Consumption for useful thermal output - does not have childseries available\n",
      "Retail sales of electricity - OK\n",
      "Revenue from retail sales of electricity - OK\n",
      "Average retail price of electricity - OK\n",
      "Plant level data - does not have childseries available\n",
      "Fossil-fuel stocks for electricity generation - does not have childseries available\n",
      "Receipts of fossil fuels by electricity plants - does not have childseries available\n",
      "Receipts of fossil fuels by electricity plants (Btu) - does not have childseries available\n",
      "Average cost of fossil fuels for electricity generation - does not have childseries available\n",
      "Average cost of fossil fuels for electricity generation (per Btu) - does not have childseries available\n",
      "Quality of fossil fuels in electricity generation : sulfur content - does not have childseries available\n",
      "Quality of fossil fuels in electricity generation : ash content - does not have childseries available\n",
      "Number of customer accounts - OK\n"
     ]
    },
    {
     "data": {
      "text/html": [
       "<div>\n",
       "<style scoped>\n",
       "    .dataframe tbody tr th:only-of-type {\n",
       "        vertical-align: middle;\n",
       "    }\n",
       "\n",
       "    .dataframe tbody tr th {\n",
       "        vertical-align: top;\n",
       "    }\n",
       "\n",
       "    .dataframe thead th {\n",
       "        text-align: right;\n",
       "    }\n",
       "</style>\n",
       "<table border=\"1\" class=\"dataframe\">\n",
       "  <thead>\n",
       "    <tr style=\"text-align: right;\">\n",
       "      <th></th>\n",
       "      <th>date</th>\n",
       "      <th>geography</th>\n",
       "      <th>iso3166</th>\n",
       "      <th>Net generation</th>\n",
       "      <th>unit_x</th>\n",
       "      <th>Retail sales of electricity</th>\n",
       "      <th>unit_y</th>\n",
       "      <th>Revenue from retail sales of electricity</th>\n",
       "      <th>unit_x</th>\n",
       "      <th>Average retail price of electricity</th>\n",
       "      <th>unit_y</th>\n",
       "      <th>Number of customer accounts</th>\n",
       "      <th>unit</th>\n",
       "    </tr>\n",
       "  </thead>\n",
       "  <tbody>\n",
       "    <tr>\n",
       "      <th>0</th>\n",
       "      <td>2013</td>\n",
       "      <td>USA-AK</td>\n",
       "      <td>USA-AK</td>\n",
       "      <td>6496.82164</td>\n",
       "      <td>thousand megawatthours</td>\n",
       "      <td>6268.21201</td>\n",
       "      <td>million kilowatthours</td>\n",
       "      <td>1033.34690</td>\n",
       "      <td>million dollars</td>\n",
       "      <td>16.49</td>\n",
       "      <td>cents per kilowatthour</td>\n",
       "      <td>3.277599e+05</td>\n",
       "      <td>number of customers</td>\n",
       "    </tr>\n",
       "    <tr>\n",
       "      <th>1</th>\n",
       "      <td>2013</td>\n",
       "      <td>USA-AL</td>\n",
       "      <td>USA-AL</td>\n",
       "      <td>150572.92386</td>\n",
       "      <td>thousand megawatthours</td>\n",
       "      <td>87852.10702</td>\n",
       "      <td>million kilowatthours</td>\n",
       "      <td>7923.66243</td>\n",
       "      <td>million dollars</td>\n",
       "      <td>9.02</td>\n",
       "      <td>cents per kilowatthour</td>\n",
       "      <td>2.524633e+06</td>\n",
       "      <td>number of customers</td>\n",
       "    </tr>\n",
       "    <tr>\n",
       "      <th>2</th>\n",
       "      <td>2013</td>\n",
       "      <td>USA-AR</td>\n",
       "      <td>USA-AR</td>\n",
       "      <td>60322.49214</td>\n",
       "      <td>thousand megawatthours</td>\n",
       "      <td>46683.03401</td>\n",
       "      <td>million kilowatthours</td>\n",
       "      <td>3703.71061</td>\n",
       "      <td>million dollars</td>\n",
       "      <td>7.93</td>\n",
       "      <td>cents per kilowatthour</td>\n",
       "      <td>1.557321e+06</td>\n",
       "      <td>number of customers</td>\n",
       "    </tr>\n",
       "    <tr>\n",
       "      <th>3</th>\n",
       "      <td>2013</td>\n",
       "      <td>USA-AZ</td>\n",
       "      <td>USA-AZ</td>\n",
       "      <td>113325.98612</td>\n",
       "      <td>thousand megawatthours</td>\n",
       "      <td>75662.03703</td>\n",
       "      <td>million kilowatthours</td>\n",
       "      <td>7669.32240</td>\n",
       "      <td>million dollars</td>\n",
       "      <td>10.14</td>\n",
       "      <td>cents per kilowatthour</td>\n",
       "      <td>2.947070e+06</td>\n",
       "      <td>number of customers</td>\n",
       "    </tr>\n",
       "    <tr>\n",
       "      <th>4</th>\n",
       "      <td>2013</td>\n",
       "      <td>USA-CA</td>\n",
       "      <td>USA-CA</td>\n",
       "      <td>200077.11462</td>\n",
       "      <td>thousand megawatthours</td>\n",
       "      <td>261332.45899</td>\n",
       "      <td>million kilowatthours</td>\n",
       "      <td>37372.30791</td>\n",
       "      <td>million dollars</td>\n",
       "      <td>14.30</td>\n",
       "      <td>cents per kilowatthour</td>\n",
       "      <td>1.510754e+07</td>\n",
       "      <td>number of customers</td>\n",
       "    </tr>\n",
       "  </tbody>\n",
       "</table>\n",
       "</div>"
      ],
      "text/plain": [
       "   date geography iso3166  Net generation                  unit_x  \\\n",
       "0  2013    USA-AK  USA-AK      6496.82164  thousand megawatthours   \n",
       "1  2013    USA-AL  USA-AL    150572.92386  thousand megawatthours   \n",
       "2  2013    USA-AR  USA-AR     60322.49214  thousand megawatthours   \n",
       "3  2013    USA-AZ  USA-AZ    113325.98612  thousand megawatthours   \n",
       "4  2013    USA-CA  USA-CA    200077.11462  thousand megawatthours   \n",
       "\n",
       "   Retail sales of electricity                 unit_y  \\\n",
       "0                   6268.21201  million kilowatthours   \n",
       "1                  87852.10702  million kilowatthours   \n",
       "2                  46683.03401  million kilowatthours   \n",
       "3                  75662.03703  million kilowatthours   \n",
       "4                 261332.45899  million kilowatthours   \n",
       "\n",
       "   Revenue from retail sales of electricity           unit_x  \\\n",
       "0                                1033.34690  million dollars   \n",
       "1                                7923.66243  million dollars   \n",
       "2                                3703.71061  million dollars   \n",
       "3                                7669.32240  million dollars   \n",
       "4                               37372.30791  million dollars   \n",
       "\n",
       "   Average retail price of electricity                  unit_y  \\\n",
       "0                                16.49  cents per kilowatthour   \n",
       "1                                 9.02  cents per kilowatthour   \n",
       "2                                 7.93  cents per kilowatthour   \n",
       "3                                10.14  cents per kilowatthour   \n",
       "4                                14.30  cents per kilowatthour   \n",
       "\n",
       "   Number of customer accounts                 unit  \n",
       "0                 3.277599e+05  number of customers  \n",
       "1                 2.524633e+06  number of customers  \n",
       "2                 1.557321e+06  number of customers  \n",
       "3                 2.947070e+06  number of customers  \n",
       "4                 1.510754e+07  number of customers  "
      ]
     },
     "execution_count": 17,
     "metadata": {},
     "output_type": "execute_result"
    }
   ],
   "source": [
    "variables_idx=[0,1,2,3,4,5,6,7,8,9,10,11,12,13,14,15,16,17,18] #list of indexes of df_cat_IDs_0\n",
    "f='A' #Frequency can be 'A':Annual, 'Q':Quarter or 'M':Monthly \n",
    "start='2013'\n",
    "end='2013'\n",
    "df_data=get_eia_data(variables_idx, f,start, end)\n",
    "df_data.head()\n"
   ]
  },
  {
   "cell_type": "code",
   "execution_count": 18,
   "metadata": {},
   "outputs": [
    {
     "data": {
      "text/plain": [
       "<function matplotlib.pyplot.show(*args, **kw)>"
      ]
     },
     "execution_count": 18,
     "metadata": {},
     "output_type": "execute_result"
    },
    {
     "data": {
      "image/png": "[encoded data removed]",
      "text/plain": [
       "<Figure size 432x288 with 1 Axes>"
      ]
     },
     "metadata": {
      "needs_background": "light"
     },
     "output_type": "display_data"
    }
   ],
   "source": [
    "#Geography Electricity landscape in 2013\n",
    "\n",
    "plot1=df_data.plot(logy=True, title='Geography Electricity landscape in 2013')\n",
    "plot1.legend(loc='center left', bbox_to_anchor=(1, 0.5))\n",
    "#plot1.legend(loc='upper center', bbox_to_anchor=(0.5, -0.05), fancybox=True, shadow=True, ncol=5)\n",
    "plt.show"
   ]
  },
  {
   "cell_type": "markdown",
   "metadata": {},
   "source": [
    "### NOAA"
   ]
  },
  {
   "cell_type": "code",
   "execution_count": 19,
   "metadata": {},
   "outputs": [],
   "source": [
    "Token='AwkqwxasEbHFkzNhMJijIRrdkxVWSkBw'\n"
   ]
  },
  {
   "cell_type": "code",
   "execution_count": 20,
   "metadata": {},
   "outputs": [
    {
     "ename": "SyntaxError",
     "evalue": "invalid syntax (<ipython-input-20-b49084e3f019>, line 3)",
     "output_type": "error",
     "traceback": [
      "\u001b[1;36m  File \u001b[1;32m\"<ipython-input-20-b49084e3f019>\"\u001b[1;36m, line \u001b[1;32m3\u001b[0m\n\u001b[1;33m    response = requests.get(url, headers = { 'token' : Token }, data:{<data>})\u001b[0m\n\u001b[1;37m                                                                    ^\u001b[0m\n\u001b[1;31mSyntaxError\u001b[0m\u001b[1;31m:\u001b[0m invalid syntax\n"
     ]
    }
   ],
   "source": [
    "\n",
    "url='https://www.ncdc.noaa.gov/cdo-web/api/v2/datasets'\n",
    "response = requests.get(url, headers = { 'token' : Token }, data:{<data>}) \n",
    "json_data = response.json()"
   ]
  },
  {
   "cell_type": "code",
   "execution_count": 8,
   "metadata": {},
   "outputs": [
    {
     "data": {
      "text/plain": [
       "{'metadata': {'resultset': {'offset': 1, 'count': 11, 'limit': 25}},\n",
       " 'results': [{'uid': 'gov.noaa.ncdc:C00861',\n",
       "   'mindate': '1763-01-01',\n",
       "   'maxdate': '2019-04-03',\n",
       "   'name': 'Daily Summaries',\n",
       "   'datacoverage': 1,\n",
       "   'id': 'GHCND'},\n",
       "  {'uid': 'gov.noaa.ncdc:C00946',\n",
       "   'mindate': '1763-01-01',\n",
       "   'maxdate': '2019-03-01',\n",
       "   'name': 'Global Summary of the Month',\n",
       "   'datacoverage': 1,\n",
       "   'id': 'GSOM'},\n",
       "  {'uid': 'gov.noaa.ncdc:C00947',\n",
       "   'mindate': '1763-01-01',\n",
       "   'maxdate': '2018-01-01',\n",
       "   'name': 'Global Summary of the Year',\n",
       "   'datacoverage': 1,\n",
       "   'id': 'GSOY'},\n",
       "  {'uid': 'gov.noaa.ncdc:C00345',\n",
       "   'mindate': '1991-06-05',\n",
       "   'maxdate': '2019-04-09',\n",
       "   'name': 'Weather Radar (Level II)',\n",
       "   'datacoverage': 0.95,\n",
       "   'id': 'NEXRAD2'},\n",
       "  {'uid': 'gov.noaa.ncdc:C00708',\n",
       "   'mindate': '1994-05-20',\n",
       "   'maxdate': '2019-04-06',\n",
       "   'name': 'Weather Radar (Level III)',\n",
       "   'datacoverage': 0.95,\n",
       "   'id': 'NEXRAD3'},\n",
       "  {'uid': 'gov.noaa.ncdc:C00821',\n",
       "   'mindate': '2010-01-01',\n",
       "   'maxdate': '2010-01-01',\n",
       "   'name': 'Normals Annual/Seasonal',\n",
       "   'datacoverage': 1,\n",
       "   'id': 'NORMAL_ANN'},\n",
       "  {'uid': 'gov.noaa.ncdc:C00823',\n",
       "   'mindate': '2010-01-01',\n",
       "   'maxdate': '2010-12-31',\n",
       "   'name': 'Normals Daily',\n",
       "   'datacoverage': 1,\n",
       "   'id': 'NORMAL_DLY'},\n",
       "  {'uid': 'gov.noaa.ncdc:C00824',\n",
       "   'mindate': '2010-01-01',\n",
       "   'maxdate': '2010-12-31',\n",
       "   'name': 'Normals Hourly',\n",
       "   'datacoverage': 1,\n",
       "   'id': 'NORMAL_HLY'},\n",
       "  {'uid': 'gov.noaa.ncdc:C00822',\n",
       "   'mindate': '2010-01-01',\n",
       "   'maxdate': '2010-12-01',\n",
       "   'name': 'Normals Monthly',\n",
       "   'datacoverage': 1,\n",
       "   'id': 'NORMAL_MLY'},\n",
       "  {'uid': 'gov.noaa.ncdc:C00505',\n",
       "   'mindate': '1970-05-12',\n",
       "   'maxdate': '2014-01-01',\n",
       "   'name': 'Precipitation 15 Minute',\n",
       "   'datacoverage': 0.25,\n",
       "   'id': 'PRECIP_15'},\n",
       "  {'uid': 'gov.noaa.ncdc:C00313',\n",
       "   'mindate': '1900-01-01',\n",
       "   'maxdate': '2014-01-01',\n",
       "   'name': 'Precipitation Hourly',\n",
       "   'datacoverage': 1,\n",
       "   'id': 'PRECIP_HLY'}]}"
      ]
     },
     "execution_count": 8,
     "metadata": {},
     "output_type": "execute_result"
    }
   ],
   "source": [
    "json_data"
   ]
  },
  {
   "cell_type": "code",
   "execution_count": null,
   "metadata": {},
   "outputs": [],
   "source": [
    "\n",
    "headers"
   ]
  },
  {
   "cell_type": "code",
   "execution_count": null,
   "metadata": {},
   "outputs": [],
   "source": []
  },
  {
   "cell_type": "code",
   "execution_count": null,
   "metadata": {},
   "outputs": [],
   "source": []
  },
  {
   "cell_type": "code",
   "execution_count": null,
   "metadata": {},
   "outputs": [],
   "source": []
  },
  {
   "cell_type": "code",
   "execution_count": null,
   "metadata": {},
   "outputs": [],
   "source": []
  },
  {
   "cell_type": "code",
   "execution_count": null,
   "metadata": {},
   "outputs": [],
   "source": []
  },
  {
   "cell_type": "code",
   "execution_count": null,
   "metadata": {},
   "outputs": [],
   "source": []
  },
  {
   "cell_type": "code",
   "execution_count": null,
   "metadata": {},
   "outputs": [],
   "source": []
  },
  {
   "cell_type": "code",
   "execution_count": null,
   "metadata": {},
   "outputs": [],
   "source": []
  }
 ],
 "metadata": {
  "kernelspec": {
   "display_name": "Python 3",
   "language": "python",
   "name": "python3"
  },
  "language_info": {
   "codemirror_mode": {
    "name": "ipython",
    "version": 3
   },
   "file_extension": ".py",
   "mimetype": "text/x-python",
   "name": "python",
   "nbconvert_exporter": "python",
   "pygments_lexer": "ipython3",
   "version": "3.7.1"
  }
 },
 "nbformat": 4,
 "nbformat_minor": 2
}
