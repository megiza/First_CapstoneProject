{
 "cells": [
  {
   "cell_type": "markdown",
   "metadata": {},
   "source": [
    "# Capstone Project 1"
   ]
  },
  {
   "cell_type": "markdown",
   "metadata": {},
   "source": [
    "## Title: Prediction of electricity rates (cost/Kwh) and consumption\n",
    "### Author: Elizabeth Izarra"
   ]
  },
  {
   "cell_type": "markdown",
   "metadata": {},
   "source": [
    "### Problem:\n",
    "Electricity has a very dynamic market price since it is a commodity that is essential for daily life and \n",
    "non-storable where generation and demand must be continuously balanced. This is turn make it dependable of the \n",
    "weather conditions.    "
   ]
  },
  {
   "cell_type": "markdown",
   "metadata": {},
   "source": [
    "### Data:\n",
    "\n",
    "U.S. Energy Information Administration (EIA)\n",
    "\n",
    "Data Sets:\n",
    "- Net Generation\n",
    "- Electricity - Sales (consumption), revenue, prices & customers\n",
    "- Average cost of fossil fuels delivered by state\n",
    "- Consumption of fuels used to generate electricity\n",
    "- Electricity Stock price\n",
    " "
   ]
  },
  {
   "cell_type": "markdown",
   "metadata": {},
   "source": [
    "### ---------------------------------------------------------------------------------------------------"
   ]
  },
  {
   "cell_type": "code",
   "execution_count": 1,
   "metadata": {},
   "outputs": [],
   "source": [
    "# import the relevant modules\n",
    "import requests\n",
    "from pandas.io.json import json_normalize\n",
    "import pandas as pd\n",
    "%matplotlib inline\n",
    "import numpy as np\n",
    "import matplotlib.pyplot as plt\n",
    "import seaborn as sns"
   ]
  },
  {
   "cell_type": "code",
   "execution_count": null,
   "metadata": {},
   "outputs": [],
   "source": [
    "def get_data_from_url(API_query):\n",
    "    # Package the request, send the request and catch the response: r\n",
    "    r=requests.get(API_query)\n",
    "\n",
    "    # Inspect the JSON structure, and exploration of how nested it is,\n",
    "    # as well as the overall structure\n",
    "\n",
    "    # Decode the JSON data into a dictionary: json_data\n",
    "    json_data=r.json()\n",
    "    return json_data"
   ]
  },
  {
   "cell_type": "markdown",
   "metadata": {},
   "source": [
    "### Exploring U.S. Energy Information Administration (EIA)"
   ]
  },
  {
   "cell_type": "code",
   "execution_count": null,
   "metadata": {},
   "outputs": [],
   "source": [
    "API_KEY='a32b693a24d623394f601a1c4262fb10'"
   ]
  },
  {
   "cell_type": "code",
   "execution_count": null,
   "metadata": {},
   "outputs": [],
   "source": [
    "#Exploring the available variables\n",
    "categoryID='0'\n",
    "#Call the EIA API and pull out the data categories\n",
    "url='http://api.eia.gov/category/?api_key='+API_KEY+'&category_id='+categoryID\n",
    "json_data=get_data_from_url(url)"
   ]
  },
  {
   "cell_type": "code",
   "execution_count": null,
   "metadata": {},
   "outputs": [],
   "source": [
    "#Getting the childcategories into a DataFrame\n",
    "df_cat_IDs_0=json_normalize(json_data['category']['childcategories'])\n",
    "df_cat_IDs_0"
   ]
  },
  {
   "cell_type": "code",
   "execution_count": null,
   "metadata": {},
   "outputs": [],
   "source": [
    "    #Checking for childseries availability\n",
    "    def childseries_check(cat_idx):\n",
    "        categoryID=str(df_cat_IDs_0.iloc[cat_idx,0]) \n",
    "        \n",
    "\n",
    "        ##API for series name exploration\n",
    "        url='http://api.eia.gov/category/?api_key='+API_KEY+'&category_id='+categoryID\n",
    "        json_data=get_data_from_url(url)\n",
    "\n",
    "        df_ser_ID=json_normalize(json_data['category']['childseries'])\n",
    "        \n",
    "        return(df_ser_ID)"
   ]
  },
  {
   "cell_type": "code",
   "execution_count": null,
   "metadata": {},
   "outputs": [],
   "source": [
    "#Getting series \n",
    "\n",
    "def get_series(idx, f, start, end):\n",
    "       \n",
    "        categoryID=str(df_cat_IDs_0.iloc[idx,0]) \n",
    "        variable=df_cat_IDs_0['name'][idx]\n",
    "\n",
    "        #API for series name exploration\n",
    "        url='http://api.eia.gov/category/?api_key='+API_KEY+'&category_id='+categoryID\n",
    "        json_data=get_data_from_url(url)\n",
    "\n",
    "        df_ser_ID=json_normalize(json_data['category']['childseries'])\n",
    "\n",
    "        #API for series name exploration\n",
    "        url='http://api.eia.gov/category/?api_key='+API_KEY+'&category_id='+categoryID\n",
    "        json_data=get_data_from_url(url)\n",
    "\n",
    "        df_ser_ID=json_normalize(json_data['category']['childseries'])\n",
    "\n",
    "        #getting the series ID for the monthly reporting per state\n",
    "        #print(f, df_ser_ID.keys())\n",
    "        ser_IDs=df_ser_ID[df_ser_ID['f'].str.contains(f)]\n",
    "\n",
    "        #print(ser_IDs.head(), categoryID, variable) \n",
    "\n",
    "        #Getting series\n",
    "\n",
    "        for i in range(len(ser_IDs)):\n",
    "            #Building API\n",
    "            seriesID=str(ser_IDs.iloc[i,2]) \n",
    "            url='http://api.eia.gov/series/?series_id='+seriesID+'&api_key='+API_KEY+'&start='+start+'&end='+end\n",
    "            #Retriving data from URL\n",
    "            json_data=get_data_from_url(url)\n",
    "            #Extracting information of interest\n",
    "            h1=json_normalize(json_data,['series'])\n",
    "            h=json_normalize(json_data,['series',['data']])\n",
    "           \n",
    "            #try: print(h1['iso3166']) \n",
    "            #except: print('geography='+h1['geography'])\n",
    "          \n",
    "        \n",
    "            #Adding names to columns\n",
    "            h.columns=['date',variable]\n",
    "            h['geography']=h1['geography']\n",
    "            h['unit']=h1['units']\n",
    "            try: h['iso3166']=h1['iso3166']\n",
    "            except:h['iso3166']='N/A'\n",
    "            \n",
    "            #Chaging column positions\n",
    "            g=pd.concat([h['date'],h['geography'],h['iso3166'], h[variable],h['unit']],axis=1)\n",
    "            \n",
    "            \n",
    "            #Adding missing data\n",
    "            g.fillna(method='ffill', inplace=True)\n",
    "            #seriesID, json_data, g\n",
    "            \n",
    "            if i==0:\n",
    "                df_data_cat=g\n",
    "            else:\n",
    "\n",
    "                df_data_cat=df_data_cat.append(g, ignore_index=True, sort=False)\n",
    "        \n",
    "        return df_data_cat"
   ]
  },
  {
   "cell_type": "code",
   "execution_count": null,
   "metadata": {},
   "outputs": [],
   "source": [
    "#Getting data from Energy Information Administration (EIA)¶\n",
    "\n",
    "\n",
    "def get_eia_data(variables_idx, f,start, end):\n",
    "    c_flag=0\n",
    "    for idx in variables_idx:\n",
    "        variable=df_cat_IDs_0['name'][idx]\n",
    "        if  childseries_check(idx).empty:\n",
    "            print(variable+' - does not have childseries available')\n",
    "        else:    \n",
    "            print(variable+' - OK')\n",
    "            df_data_cat=get_series(idx, f, start, end)\n",
    "            if c_flag==0:\n",
    "                df_data=df_data_cat\n",
    "                c_flag=1\n",
    "            else:\n",
    "            \n",
    "                #Mergin df2 with dictionary Values{code: name} from previous exercise\n",
    "                df_data=df_data.merge(df_data_cat, how='outer', left_on=['date','geography','iso3166'], \n",
    "                                      right_on=['date','geography','iso3166'])\n",
    "    return df_data\n",
    "    "
   ]
  },
  {
   "cell_type": "markdown",
   "metadata": {},
   "source": [
    "#### Exploring Annual Data from 2013"
   ]
  },
  {
   "cell_type": "code",
   "execution_count": null,
   "metadata": {},
   "outputs": [],
   "source": [
    "variables_idx=[0,1,2,3,4,5,6,7,8,9,10,11,12,13,14,15,16,17,18] #list of indexes of df_cat_IDs_0\n",
    "f='A' #Frequency can be 'A':Annual, 'Q':Quarter or 'M':Monthly \n",
    "start='2013'\n",
    "end='2013'\n",
    "df_data=get_eia_data(variables_idx, f,start, end)\n",
    "df_data.head()\n"
   ]
  },
  {
   "cell_type": "code",
   "execution_count": null,
   "metadata": {},
   "outputs": [],
   "source": [
    "#Geography Electricity landscape in 2013\n",
    "\n",
    "plot1=df_data.plot(logy=True, title='Geography Electricity landscape in 2013')\n",
    "plot1.legend(loc='center left', bbox_to_anchor=(1, 0.5))\n",
    "#plot1.legend(loc='upper center', bbox_to_anchor=(0.5, -0.05), fancybox=True, shadow=True, ncol=5)\n",
    "plt.show"
   ]
  },
  {
   "cell_type": "markdown",
   "metadata": {},
   "source": [
    "### NOAA"
   ]
  },
  {
   "cell_type": "code",
   "execution_count": 3,
   "metadata": {},
   "outputs": [],
   "source": [
    "Token='AwkqwxasEbHFkzNhMJijIRrdkxVWSkBw'\n"
   ]
  },
  {
   "cell_type": "code",
   "execution_count": 7,
   "metadata": {},
   "outputs": [],
   "source": [
    "\n",
    "url='https://www.ncdc.noaa.gov/cdo-web/api/v2/datasets'\n",
    "response = requests.get(url, headers = { 'token' : Token }, data:{<data>}) \n",
    "json_data = response.json()"
   ]
  },
  {
   "cell_type": "code",
   "execution_count": 8,
   "metadata": {},
   "outputs": [
    {
     "data": {
      "text/plain": [
       "{'metadata': {'resultset': {'offset': 1, 'count': 11, 'limit': 25}},\n",
       " 'results': [{'uid': 'gov.noaa.ncdc:C00861',\n",
       "   'mindate': '1763-01-01',\n",
       "   'maxdate': '2019-04-03',\n",
       "   'name': 'Daily Summaries',\n",
       "   'datacoverage': 1,\n",
       "   'id': 'GHCND'},\n",
       "  {'uid': 'gov.noaa.ncdc:C00946',\n",
       "   'mindate': '1763-01-01',\n",
       "   'maxdate': '2019-03-01',\n",
       "   'name': 'Global Summary of the Month',\n",
       "   'datacoverage': 1,\n",
       "   'id': 'GSOM'},\n",
       "  {'uid': 'gov.noaa.ncdc:C00947',\n",
       "   'mindate': '1763-01-01',\n",
       "   'maxdate': '2018-01-01',\n",
       "   'name': 'Global Summary of the Year',\n",
       "   'datacoverage': 1,\n",
       "   'id': 'GSOY'},\n",
       "  {'uid': 'gov.noaa.ncdc:C00345',\n",
       "   'mindate': '1991-06-05',\n",
       "   'maxdate': '2019-04-09',\n",
       "   'name': 'Weather Radar (Level II)',\n",
       "   'datacoverage': 0.95,\n",
       "   'id': 'NEXRAD2'},\n",
       "  {'uid': 'gov.noaa.ncdc:C00708',\n",
       "   'mindate': '1994-05-20',\n",
       "   'maxdate': '2019-04-06',\n",
       "   'name': 'Weather Radar (Level III)',\n",
       "   'datacoverage': 0.95,\n",
       "   'id': 'NEXRAD3'},\n",
       "  {'uid': 'gov.noaa.ncdc:C00821',\n",
       "   'mindate': '2010-01-01',\n",
       "   'maxdate': '2010-01-01',\n",
       "   'name': 'Normals Annual/Seasonal',\n",
       "   'datacoverage': 1,\n",
       "   'id': 'NORMAL_ANN'},\n",
       "  {'uid': 'gov.noaa.ncdc:C00823',\n",
       "   'mindate': '2010-01-01',\n",
       "   'maxdate': '2010-12-31',\n",
       "   'name': 'Normals Daily',\n",
       "   'datacoverage': 1,\n",
       "   'id': 'NORMAL_DLY'},\n",
       "  {'uid': 'gov.noaa.ncdc:C00824',\n",
       "   'mindate': '2010-01-01',\n",
       "   'maxdate': '2010-12-31',\n",
       "   'name': 'Normals Hourly',\n",
       "   'datacoverage': 1,\n",
       "   'id': 'NORMAL_HLY'},\n",
       "  {'uid': 'gov.noaa.ncdc:C00822',\n",
       "   'mindate': '2010-01-01',\n",
       "   'maxdate': '2010-12-01',\n",
       "   'name': 'Normals Monthly',\n",
       "   'datacoverage': 1,\n",
       "   'id': 'NORMAL_MLY'},\n",
       "  {'uid': 'gov.noaa.ncdc:C00505',\n",
       "   'mindate': '1970-05-12',\n",
       "   'maxdate': '2014-01-01',\n",
       "   'name': 'Precipitation 15 Minute',\n",
       "   'datacoverage': 0.25,\n",
       "   'id': 'PRECIP_15'},\n",
       "  {'uid': 'gov.noaa.ncdc:C00313',\n",
       "   'mindate': '1900-01-01',\n",
       "   'maxdate': '2014-01-01',\n",
       "   'name': 'Precipitation Hourly',\n",
       "   'datacoverage': 1,\n",
       "   'id': 'PRECIP_HLY'}]}"
      ]
     },
     "execution_count": 8,
     "metadata": {},
     "output_type": "execute_result"
    }
   ],
   "source": [
    "json_data"
   ]
  },
  {
   "cell_type": "code",
   "execution_count": null,
   "metadata": {},
   "outputs": [],
   "source": [
    "\n",
    "headers"
   ]
  },
  {
   "cell_type": "code",
   "execution_count": null,
   "metadata": {},
   "outputs": [],
   "source": []
  },
  {
   "cell_type": "code",
   "execution_count": null,
   "metadata": {},
   "outputs": [],
   "source": []
  },
  {
   "cell_type": "code",
   "execution_count": null,
   "metadata": {},
   "outputs": [],
   "source": []
  },
  {
   "cell_type": "code",
   "execution_count": null,
   "metadata": {},
   "outputs": [],
   "source": []
  },
  {
   "cell_type": "code",
   "execution_count": null,
   "metadata": {},
   "outputs": [],
   "source": []
  },
  {
   "cell_type": "code",
   "execution_count": null,
   "metadata": {},
   "outputs": [],
   "source": []
  },
  {
   "cell_type": "code",
   "execution_count": null,
   "metadata": {},
   "outputs": [],
   "source": []
  },
  {
   "cell_type": "code",
   "execution_count": null,
   "metadata": {},
   "outputs": [],
   "source": []
  }
 ],
 "metadata": {
  "kernelspec": {
   "display_name": "Python 3",
   "language": "python",
   "name": "python3"
  },
  "language_info": {
   "codemirror_mode": {
    "name": "ipython",
    "version": 3
   },
   "file_extension": ".py",
   "mimetype": "text/x-python",
   "name": "python",
   "nbconvert_exporter": "python",
   "pygments_lexer": "ipython3",
   "version": "3.7.1"
  }
 },
 "nbformat": 4,
 "nbformat_minor": 2
}
