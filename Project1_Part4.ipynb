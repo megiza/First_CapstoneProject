{
 "cells": [
  {
   "cell_type": "markdown",
   "metadata": {},
   "source": [
    "# Capstone Project 1 - Part 4  Machine Learning\n"
   ]
  },
  {
   "cell_type": "markdown",
   "metadata": {},
   "source": [
    "# IN PROGRESS ---- "
   ]
  },
  {
   "cell_type": "markdown",
   "metadata": {},
   "source": [
    "### Prediction of electricity rates (cost/Kwh) and consumption \n",
    "### Author: Elizabeth Izarra"
   ]
  },
  {
   "cell_type": "markdown",
   "metadata": {},
   "source": [
    "### General Problem:\n",
    "\n",
    "Electricity has a very dynamic market price since it is a commodity that is essential for daily life and non-storable where generation and demand must be continuously balanced. This is turn make it dependable of the weather conditions. "
   ]
  },
  {
   "cell_type": "markdown",
   "metadata": {},
   "source": [
    "### Data Sources:\n",
    "\n",
    "- U.S. Energy Information Administration (EIA)\n",
    "- National Oceanic and Atmospheric Administration NOAA\n",
    "\n",
    "See Capstone Project 1 - Part 1 Data Acquisition and Data Wrangling \n",
    "\n",
    "#### File used as source for this Capstone Project 1- Part 4:  \n",
    "AllData_2.csv  - generated in Capstone Project 1 - Part 1 Data Acquisition and Data Wrangling"
   ]
  },
  {
   "cell_type": "markdown",
   "metadata": {},
   "source": [
    "### Data Preparation\n",
    "\n"
   ]
  },
  {
   "cell_type": "markdown",
   "metadata": {},
   "source": [
    " From Project1_Part2 can be visualized that the Data is Time Series and non-stationary due to:\n",
    " \n",
    " 1.Trend - the Retail price of Electricy grows over time. The trend component of our predicted variable might be due to inflation or some other macro-economic factors that are not reflected in the collected features into the data. \n",
    " \n",
    " 2.- Seasonality - there is a periodic change the price which might be considered in some models as sesonality. Nevertheless, It was studied that the Retail price of Electricy tend to be higher in months with higher temperature. Thus, depending on the model these changes can be considered just as a consequece of the correlation with temperature.\n",
    " \n",
    " \n",
    "\n",
    " "
   ]
  },
  {
   "cell_type": "markdown",
   "metadata": {},
   "source": [
    "### Model Selection"
   ]
  },
  {
   "cell_type": "markdown",
   "metadata": {},
   "source": [
    "According to the observed in the Project1_Part3 - Statistic Inference, it would be necessary a model per region.  Nevertheless, for the initial model selection,the predicted variable would be the US average temperature in order to simplify complexity and reduce computation time.\n",
    "\n",
    "\n",
    "\n"
   ]
  },
  {
   "cell_type": "markdown",
   "metadata": {},
   "source": [
    "#### Facebook Prophet (fbprophet) also known as Prophet\n",
    "\n",
    "Prophet is a univariate model. It could be considered a naive model since it intends to predict the outcome based just on the dates (time series).  The model descompount the outcome/response variable 𝑌  behavior into trend and seasonality parts. \n",
    "\n",
    "Y =Xi(1) Trend + Xi(2) Seasonality\n",
    "\n",
    "\n",
    "The trend estimator uses linear regression with changing points as hyperparameter. In this case 'autoscale' which is the default hyperparameter was used.\n",
    "\n",
    "Seasonalities are estimated using a partial Fourier sum. Additional date-related features can be added for the Seasonality part as holydates which is not part of our scope. The parameter fourier_order=5 was used. This values was selected by inspection of the graphs of the components since in Project 1_part2 was visualized the dependency of variation of price with respect month of the year due to temperatures.\n",
    "\n",
    "Extra regressors can be put in the linear component of the model, so the underlying model is that the time series depends on the extra regressor as either an additive or multiplicative factor. We did not used additional regressors in our case.\n",
    "\n",
    "Reference: https://facebook.github.io/prophet/docs/seasonality,_holiday_effects,_and_regressors.html"
   ]
  },
  {
   "cell_type": "code",
   "execution_count": null,
   "metadata": {},
   "outputs": [],
   "source": []
  },
  {
   "cell_type": "markdown",
   "metadata": {},
   "source": [
    "\n",
    "#### Moving Average + Other regressors\n",
    "\n",
    "The intention is to remove the trend part (inflation and other macro-ecomic factors) by using moving average and predict the remaining part (which depends on temperature, net generation, consumption, etc) by using different regressors. Thus, the predicted value would be the addition of both predictions. \n",
    "\n",
    "In this part, the moving average is calculated to estimate the trend and substract it from the outcome/response variable 𝑌 in order to eliminate the growing trend. \n",
    "The new  outcome/response variable 𝑌 without trend will then be estimated "
   ]
  },
  {
   "cell_type": "markdown",
   "metadata": {},
   "source": [
    "#### Arima\n",
    "\n"
   ]
  },
  {
   "cell_type": "markdown",
   "metadata": {},
   "source": [
    "#### Long Short-Term Memory (LSTM) \n",
    "LSTM is a recurrent neural networks able to almost seamlessly model problems with multiple input variables."
   ]
  },
  {
   "cell_type": "code",
   "execution_count": null,
   "metadata": {},
   "outputs": [],
   "source": []
  },
  {
   "cell_type": "markdown",
   "metadata": {},
   "source": [
    "### Model Selection Metrics\n",
    "\n",
    "MSE"
   ]
  },
  {
   "cell_type": "markdown",
   "metadata": {},
   "source": [
    "\n",
    "\n",
    "### -------------------------------------------------------------------------------------------------------------------------------------------------------"
   ]
  },
  {
   "cell_type": "markdown",
   "metadata": {},
   "source": [
    "#### Importing relevant modules and defiing functions"
   ]
  },
  {
   "cell_type": "code",
   "execution_count": 1,
   "metadata": {},
   "outputs": [],
   "source": [
    "# import the relevant modules\n",
    "import pandas as pd\n",
    "%matplotlib inline\n",
    "import numpy as np\n",
    "from datetime import datetime\n",
    "import matplotlib.pyplot as plt\n",
    "from sklearn.metrics import mean_squared_log_error\n",
    "from sklearn.metrics import mean_squared_error\n",
    "from sklearn.model_selection import train_test_split\n",
    "from sklearn.model_selection import cross_val_score "
   ]
  },
  {
   "cell_type": "code",
   "execution_count": 2,
   "metadata": {},
   "outputs": [],
   "source": [
    "#Annual and monthly mean in US\n",
    "def resample_mean_US(df, f='Y'):\n",
    "   \n",
    "    df['date']=pd.to_datetime(df['date'], format=\"%Y-%m-%d\")\n",
    "    if f=='m': \n",
    "        df['month']=df['date'].dt.month\n",
    "    df=df.set_index(['date'])\n",
    "    df = df.sort_values(by=['date'],ascending=[True])\n",
    "    df=df.resample(f).mean()\n",
    "    df.reset_index()\n",
    "    return df"
   ]
  },
  {
   "cell_type": "markdown",
   "metadata": {},
   "source": [
    "### Getting Data retrieved in Project_Part1: Data acquisition and data wrangling"
   ]
  },
  {
   "cell_type": "code",
   "execution_count": null,
   "metadata": {},
   "outputs": [],
   "source": []
  },
  {
   "cell_type": "code",
   "execution_count": 3,
   "metadata": {},
   "outputs": [],
   "source": [
    "#Getting Data retrieved in Project_Part1\n",
    "file='AllData_2.csv'\n",
    "df_data_orig=pd.read_csv(file)\n",
    "df_data=df_data_orig.copy()\n",
    "#delete any unnamed column product of saving DataFrames in range index to csv\n",
    "df_data.drop(df_data.columns[df_data.columns.str.contains('unnamed',case = False)],axis = 1, inplace=True)\n",
    "df_data.head()\n",
    "\n",
    "#getting US regions\n",
    "file='regions.csv'\n",
    "df_reg_orig=pd.read_csv(file)\n",
    "df_reg=df_reg_orig.copy()\n",
    "\n",
    "#Add column Region to the DataFrame\n",
    "for reg in df_reg.columns:\n",
    "    #getting the data for the states of New England\n",
    "    states=df_reg[reg].dropna()\n",
    "    list_states=list(states.values)\n",
    "\n",
    "    idx_region=df_data.index[df_data['state'].isin(list_states)]\n",
    "    df_data.loc[idx_region,'region']=reg\n",
    "\n",
    "df_data['date']=pd.to_datetime(df_data['date'], format=\"%Y-%m-%d\")"
   ]
  },
  {
   "cell_type": "code",
   "execution_count": 4,
   "metadata": {},
   "outputs": [
    {
     "name": "stdout",
     "output_type": "stream",
     "text": [
      "<class 'pandas.core.frame.DataFrame'>\n",
      "RangeIndex: 11016 entries, 0 to 11015\n",
      "Data columns (total 17 columns):\n",
      "date                                        11016 non-null datetime64[ns]\n",
      "iso3166                                     11016 non-null object\n",
      "Net generation                              11016 non-null float64\n",
      "unit_x                                      11016 non-null object\n",
      "Retail sales of electricity                 11016 non-null float64\n",
      "unit_y                                      11016 non-null object\n",
      "Revenue from retail sales of electricity    11015 non-null float64\n",
      "unit_x.1                                    11016 non-null object\n",
      "Average retail price of electricity         11016 non-null float64\n",
      "unit_y.1                                    11016 non-null object\n",
      "Number of customer accounts                 7078 non-null float64\n",
      "unit                                        6732 non-null object\n",
      "TAVG                                        11016 non-null float64\n",
      "TMAX                                        11016 non-null float64\n",
      "TMIN                                        11016 non-null float64\n",
      "state                                       11016 non-null object\n",
      "region                                      11016 non-null object\n",
      "dtypes: datetime64[ns](1), float64(8), object(8)\n",
      "memory usage: 1.4+ MB\n"
     ]
    }
   ],
   "source": [
    "df_data.info()"
   ]
  },
  {
   "cell_type": "code",
   "execution_count": 5,
   "metadata": {
    "scrolled": true
   },
   "outputs": [
    {
     "data": {
      "text/html": [
       "<div>\n",
       "<style scoped>\n",
       "    .dataframe tbody tr th:only-of-type {\n",
       "        vertical-align: middle;\n",
       "    }\n",
       "\n",
       "    .dataframe tbody tr th {\n",
       "        vertical-align: top;\n",
       "    }\n",
       "\n",
       "    .dataframe thead th {\n",
       "        text-align: right;\n",
       "    }\n",
       "</style>\n",
       "<table border=\"1\" class=\"dataframe\">\n",
       "  <thead>\n",
       "    <tr style=\"text-align: right;\">\n",
       "      <th></th>\n",
       "      <th>date</th>\n",
       "      <th>iso3166</th>\n",
       "      <th>Net generation</th>\n",
       "      <th>unit_x</th>\n",
       "      <th>Retail sales of electricity</th>\n",
       "      <th>unit_y</th>\n",
       "      <th>Revenue from retail sales of electricity</th>\n",
       "      <th>unit_x.1</th>\n",
       "      <th>Average retail price of electricity</th>\n",
       "      <th>unit_y.1</th>\n",
       "      <th>Number of customer accounts</th>\n",
       "      <th>unit</th>\n",
       "      <th>TAVG</th>\n",
       "      <th>TMAX</th>\n",
       "      <th>TMIN</th>\n",
       "      <th>state</th>\n",
       "      <th>region</th>\n",
       "    </tr>\n",
       "  </thead>\n",
       "  <tbody>\n",
       "    <tr>\n",
       "      <th>0</th>\n",
       "      <td>2018-12-01</td>\n",
       "      <td>USA-AK</td>\n",
       "      <td>508.48364</td>\n",
       "      <td>thousand megawatthours</td>\n",
       "      <td>541.79201</td>\n",
       "      <td>million kilowatthours</td>\n",
       "      <td>107.60184</td>\n",
       "      <td>million dollars</td>\n",
       "      <td>19.86</td>\n",
       "      <td>cents per kilowatthour</td>\n",
       "      <td>344957.0</td>\n",
       "      <td>number of customers</td>\n",
       "      <td>13.919636</td>\n",
       "      <td>19.644565</td>\n",
       "      <td>8.191273</td>\n",
       "      <td>Alaska</td>\n",
       "      <td>Pacific Noncontiguous</td>\n",
       "    </tr>\n",
       "    <tr>\n",
       "      <th>1</th>\n",
       "      <td>2018-11-01</td>\n",
       "      <td>USA-AK</td>\n",
       "      <td>459.47404</td>\n",
       "      <td>thousand megawatthours</td>\n",
       "      <td>507.34973</td>\n",
       "      <td>million kilowatthours</td>\n",
       "      <td>97.41503</td>\n",
       "      <td>million dollars</td>\n",
       "      <td>19.20</td>\n",
       "      <td>cents per kilowatthour</td>\n",
       "      <td>345444.0</td>\n",
       "      <td>number of customers</td>\n",
       "      <td>22.048986</td>\n",
       "      <td>27.529054</td>\n",
       "      <td>16.563514</td>\n",
       "      <td>Alaska</td>\n",
       "      <td>Pacific Noncontiguous</td>\n",
       "    </tr>\n",
       "    <tr>\n",
       "      <th>2</th>\n",
       "      <td>2018-10-01</td>\n",
       "      <td>USA-AK</td>\n",
       "      <td>437.14615</td>\n",
       "      <td>thousand megawatthours</td>\n",
       "      <td>472.18412</td>\n",
       "      <td>million kilowatthours</td>\n",
       "      <td>94.89770</td>\n",
       "      <td>million dollars</td>\n",
       "      <td>20.10</td>\n",
       "      <td>cents per kilowatthour</td>\n",
       "      <td>346050.0</td>\n",
       "      <td>number of customers</td>\n",
       "      <td>36.289632</td>\n",
       "      <td>43.016667</td>\n",
       "      <td>29.612667</td>\n",
       "      <td>Alaska</td>\n",
       "      <td>Pacific Noncontiguous</td>\n",
       "    </tr>\n",
       "    <tr>\n",
       "      <th>3</th>\n",
       "      <td>2018-09-01</td>\n",
       "      <td>USA-AK</td>\n",
       "      <td>566.15276</td>\n",
       "      <td>thousand megawatthours</td>\n",
       "      <td>466.33372</td>\n",
       "      <td>million kilowatthours</td>\n",
       "      <td>90.49571</td>\n",
       "      <td>million dollars</td>\n",
       "      <td>19.41</td>\n",
       "      <td>cents per kilowatthour</td>\n",
       "      <td>345366.0</td>\n",
       "      <td>number of customers</td>\n",
       "      <td>46.673422</td>\n",
       "      <td>55.364026</td>\n",
       "      <td>37.996678</td>\n",
       "      <td>Alaska</td>\n",
       "      <td>Pacific Noncontiguous</td>\n",
       "    </tr>\n",
       "    <tr>\n",
       "      <th>4</th>\n",
       "      <td>2018-08-01</td>\n",
       "      <td>USA-AK</td>\n",
       "      <td>636.60150</td>\n",
       "      <td>thousand megawatthours</td>\n",
       "      <td>471.08394</td>\n",
       "      <td>million kilowatthours</td>\n",
       "      <td>93.52328</td>\n",
       "      <td>million dollars</td>\n",
       "      <td>19.85</td>\n",
       "      <td>cents per kilowatthour</td>\n",
       "      <td>345757.0</td>\n",
       "      <td>number of customers</td>\n",
       "      <td>51.921967</td>\n",
       "      <td>58.719016</td>\n",
       "      <td>45.120328</td>\n",
       "      <td>Alaska</td>\n",
       "      <td>Pacific Noncontiguous</td>\n",
       "    </tr>\n",
       "  </tbody>\n",
       "</table>\n",
       "</div>"
      ],
      "text/plain": [
       "        date iso3166  Net generation                  unit_x  \\\n",
       "0 2018-12-01  USA-AK       508.48364  thousand megawatthours   \n",
       "1 2018-11-01  USA-AK       459.47404  thousand megawatthours   \n",
       "2 2018-10-01  USA-AK       437.14615  thousand megawatthours   \n",
       "3 2018-09-01  USA-AK       566.15276  thousand megawatthours   \n",
       "4 2018-08-01  USA-AK       636.60150  thousand megawatthours   \n",
       "\n",
       "   Retail sales of electricity                 unit_y  \\\n",
       "0                    541.79201  million kilowatthours   \n",
       "1                    507.34973  million kilowatthours   \n",
       "2                    472.18412  million kilowatthours   \n",
       "3                    466.33372  million kilowatthours   \n",
       "4                    471.08394  million kilowatthours   \n",
       "\n",
       "   Revenue from retail sales of electricity         unit_x.1  \\\n",
       "0                                 107.60184  million dollars   \n",
       "1                                  97.41503  million dollars   \n",
       "2                                  94.89770  million dollars   \n",
       "3                                  90.49571  million dollars   \n",
       "4                                  93.52328  million dollars   \n",
       "\n",
       "   Average retail price of electricity                unit_y.1  \\\n",
       "0                                19.86  cents per kilowatthour   \n",
       "1                                19.20  cents per kilowatthour   \n",
       "2                                20.10  cents per kilowatthour   \n",
       "3                                19.41  cents per kilowatthour   \n",
       "4                                19.85  cents per kilowatthour   \n",
       "\n",
       "   Number of customer accounts                 unit       TAVG       TMAX  \\\n",
       "0                     344957.0  number of customers  13.919636  19.644565   \n",
       "1                     345444.0  number of customers  22.048986  27.529054   \n",
       "2                     346050.0  number of customers  36.289632  43.016667   \n",
       "3                     345366.0  number of customers  46.673422  55.364026   \n",
       "4                     345757.0  number of customers  51.921967  58.719016   \n",
       "\n",
       "        TMIN   state                 region  \n",
       "0   8.191273  Alaska  Pacific Noncontiguous  \n",
       "1  16.563514  Alaska  Pacific Noncontiguous  \n",
       "2  29.612667  Alaska  Pacific Noncontiguous  \n",
       "3  37.996678  Alaska  Pacific Noncontiguous  \n",
       "4  45.120328  Alaska  Pacific Noncontiguous  "
      ]
     },
     "execution_count": 5,
     "metadata": {},
     "output_type": "execute_result"
    }
   ],
   "source": [
    "df_data.head()"
   ]
  },
  {
   "cell_type": "code",
   "execution_count": 6,
   "metadata": {},
   "outputs": [],
   "source": [
    "df_model_assesment=pd.DataFrame(columns=['Model', 'mean_squared_log_error', 'mean_squared_error'])\n"
   ]
  },
  {
   "cell_type": "markdown",
   "metadata": {},
   "source": [
    "# ==============================================="
   ]
  },
  {
   "cell_type": "markdown",
   "metadata": {},
   "source": [
    "### Working for a model for the US mean temperature"
   ]
  },
  {
   "cell_type": "code",
   "execution_count": 7,
   "metadata": {},
   "outputs": [],
   "source": [
    "#Aggregating data per month for USA\n",
    "df=df_data.copy()\n",
    "df_monthly_US=resample_mean_US(df,f='m')\n",
    "df_monthly_US=df_monthly_US.reset_index()"
   ]
  },
  {
   "cell_type": "code",
   "execution_count": 8,
   "metadata": {},
   "outputs": [
    {
     "name": "stdout",
     "output_type": "stream",
     "text": [
      "<class 'pandas.core.frame.DataFrame'>\n",
      "RangeIndex: 216 entries, 0 to 215\n",
      "Data columns (total 10 columns):\n",
      "date                                        216 non-null datetime64[ns]\n",
      "Net generation                              216 non-null float64\n",
      "Retail sales of electricity                 216 non-null float64\n",
      "Revenue from retail sales of electricity    216 non-null float64\n",
      "Average retail price of electricity         216 non-null float64\n",
      "Number of customer accounts                 139 non-null float64\n",
      "TAVG                                        216 non-null float64\n",
      "TMAX                                        216 non-null float64\n",
      "TMIN                                        216 non-null float64\n",
      "month                                       216 non-null int64\n",
      "dtypes: datetime64[ns](1), float64(8), int64(1)\n",
      "memory usage: 17.0 KB\n"
     ]
    }
   ],
   "source": [
    "df_monthly_US.info()"
   ]
  },
  {
   "cell_type": "code",
   "execution_count": 9,
   "metadata": {},
   "outputs": [],
   "source": [
    "#Fill missing values\n"
   ]
  },
  {
   "cell_type": "code",
   "execution_count": 43,
   "metadata": {},
   "outputs": [],
   "source": [
    "# Create arrays for the features and the response variable\n",
    "variable=\"Average retail price of electricity\"\n",
    "y = df_monthly_US[variable].values\n",
    "X = df_monthly_US.drop(variable, axis=1).values"
   ]
  },
  {
   "cell_type": "code",
   "execution_count": 46,
   "metadata": {},
   "outputs": [
    {
     "name": "stdout",
     "output_type": "stream",
     "text": [
      "(36,)\n",
      "(72,)\n",
      "(108,)\n",
      "(144,)\n",
      "(180,)\n"
     ]
    }
   ],
   "source": [
    "#Split data\n",
    "from sklearn.model_selection import TimeSeriesSplit \n",
    "tscv = TimeSeriesSplit(n_splits=5)\n",
    "for train_index, test_index in tscv.split(X):\n",
    "   # print(\"TRAIN:\", train_index, \"TEST:\", test_index)\n",
    "    X_train, X_test = X[train_index], X[test_index]\n",
    "    y_train, y_test = y[train_index], y[test_index]\n",
    "    print(y_train.shape)\n"
   ]
  },
  {
   "cell_type": "code",
   "execution_count": null,
   "metadata": {},
   "outputs": [],
   "source": []
  },
  {
   "cell_type": "markdown",
   "metadata": {},
   "source": [
    "### Facebook Prophet (fbprophet) Model"
   ]
  },
  {
   "cell_type": "code",
   "execution_count": 13,
   "metadata": {},
   "outputs": [],
   "source": [
    "from fbprophet import Prophet  #import facebook prophet\n",
    "from fbprophet.diagnostics import cross_validation\n",
    "from fbprophet.diagnostics import performance_metrics\n",
    "from fbprophet.plot import plot_cross_validation_metric "
   ]
  },
  {
   "cell_type": "code",
   "execution_count": 14,
   "metadata": {},
   "outputs": [],
   "source": [
    "#Extracting and labeling the time series as required by fbprophet model\n",
    "variables=['date', \"Average retail price of electricity\"]\n",
    "df_y=df_monthly_US.loc[slice(None),variables]\n",
    "df_y.columns=['ds','y']"
   ]
  },
  {
   "cell_type": "code",
   "execution_count": 15,
   "metadata": {},
   "outputs": [
    {
     "data": {
      "text/html": [
       "<div>\n",
       "<style scoped>\n",
       "    .dataframe tbody tr th:only-of-type {\n",
       "        vertical-align: middle;\n",
       "    }\n",
       "\n",
       "    .dataframe tbody tr th {\n",
       "        vertical-align: top;\n",
       "    }\n",
       "\n",
       "    .dataframe thead th {\n",
       "        text-align: right;\n",
       "    }\n",
       "</style>\n",
       "<table border=\"1\" class=\"dataframe\">\n",
       "  <thead>\n",
       "    <tr style=\"text-align: right;\">\n",
       "      <th></th>\n",
       "      <th>ds</th>\n",
       "      <th>y</th>\n",
       "    </tr>\n",
       "  </thead>\n",
       "  <tbody>\n",
       "    <tr>\n",
       "      <th>173</th>\n",
       "      <td>2015-06-30</td>\n",
       "      <td>11.178431</td>\n",
       "    </tr>\n",
       "    <tr>\n",
       "      <th>174</th>\n",
       "      <td>2015-07-31</td>\n",
       "      <td>11.322353</td>\n",
       "    </tr>\n",
       "    <tr>\n",
       "      <th>175</th>\n",
       "      <td>2015-08-31</td>\n",
       "      <td>11.237255</td>\n",
       "    </tr>\n",
       "    <tr>\n",
       "      <th>176</th>\n",
       "      <td>2015-09-30</td>\n",
       "      <td>11.111961</td>\n",
       "    </tr>\n",
       "    <tr>\n",
       "      <th>177</th>\n",
       "      <td>2015-10-31</td>\n",
       "      <td>10.729216</td>\n",
       "    </tr>\n",
       "  </tbody>\n",
       "</table>\n",
       "</div>"
      ],
      "text/plain": [
       "            ds          y\n",
       "173 2015-06-30  11.178431\n",
       "174 2015-07-31  11.322353\n",
       "175 2015-08-31  11.237255\n",
       "176 2015-09-30  11.111961\n",
       "177 2015-10-31  10.729216"
      ]
     },
     "execution_count": 15,
     "metadata": {},
     "output_type": "execute_result"
    }
   ],
   "source": [
    "#Spliting for train (history) and test (future)\n",
    "test_size=0.2\n",
    "max_idx_train=round(len(df_y)*(1-test_size))\n",
    "df_y_train=df_y.iloc[0:max_idx_train,slice(None)]\n",
    "df_y_test=df_y.iloc[max_idx_train:,slice(None)]\n",
    "\n",
    "df_y_test.head()"
   ]
  },
  {
   "cell_type": "code",
   "execution_count": 16,
   "metadata": {},
   "outputs": [
    {
     "data": {
      "text/html": [
       "<div>\n",
       "<style scoped>\n",
       "    .dataframe tbody tr th:only-of-type {\n",
       "        vertical-align: middle;\n",
       "    }\n",
       "\n",
       "    .dataframe tbody tr th {\n",
       "        vertical-align: top;\n",
       "    }\n",
       "\n",
       "    .dataframe thead th {\n",
       "        text-align: right;\n",
       "    }\n",
       "</style>\n",
       "<table border=\"1\" class=\"dataframe\">\n",
       "  <thead>\n",
       "    <tr style=\"text-align: right;\">\n",
       "      <th></th>\n",
       "      <th>ds</th>\n",
       "      <th>y</th>\n",
       "    </tr>\n",
       "  </thead>\n",
       "  <tbody>\n",
       "    <tr>\n",
       "      <th>168</th>\n",
       "      <td>2015-01-31</td>\n",
       "      <td>10.828627</td>\n",
       "    </tr>\n",
       "    <tr>\n",
       "      <th>169</th>\n",
       "      <td>2015-02-28</td>\n",
       "      <td>11.002549</td>\n",
       "    </tr>\n",
       "    <tr>\n",
       "      <th>170</th>\n",
       "      <td>2015-03-31</td>\n",
       "      <td>10.931961</td>\n",
       "    </tr>\n",
       "    <tr>\n",
       "      <th>171</th>\n",
       "      <td>2015-04-30</td>\n",
       "      <td>10.701373</td>\n",
       "    </tr>\n",
       "    <tr>\n",
       "      <th>172</th>\n",
       "      <td>2015-05-31</td>\n",
       "      <td>10.798039</td>\n",
       "    </tr>\n",
       "  </tbody>\n",
       "</table>\n",
       "</div>"
      ],
      "text/plain": [
       "            ds          y\n",
       "168 2015-01-31  10.828627\n",
       "169 2015-02-28  11.002549\n",
       "170 2015-03-31  10.931961\n",
       "171 2015-04-30  10.701373\n",
       "172 2015-05-31  10.798039"
      ]
     },
     "execution_count": 16,
     "metadata": {},
     "output_type": "execute_result"
    }
   ],
   "source": [
    "df_y_train.tail()"
   ]
  },
  {
   "cell_type": "code",
   "execution_count": 17,
   "metadata": {},
   "outputs": [
    {
     "name": "stderr",
     "output_type": "stream",
     "text": [
      "INFO:fbprophet:Found custom seasonality named \"yearly\", disabling built-in yearly seasonality.\n",
      "INFO:fbprophet:Disabling weekly seasonality. Run prophet with weekly_seasonality=True to override this.\n",
      "INFO:fbprophet:Disabling daily seasonality. Run prophet with daily_seasonality=True to override this.\n",
      "C:\\Users\\Elizabeth\\Anaconda3\\lib\\site-packages\\pystan\\misc.py:399: FutureWarning:\n",
      "\n",
      "Conversion of the second argument of issubdtype from `float` to `np.floating` is deprecated. In future, it will be treated as `np.float64 == np.dtype(float).type`.\n",
      "\n"
     ]
    },
    {
     "data": {
      "text/plain": [
       "<fbprophet.forecaster.Prophet at 0xdf3e160>"
      ]
     },
     "execution_count": 17,
     "metadata": {},
     "output_type": "execute_result"
    }
   ],
   "source": [
    "m = Prophet() #Instantiate\n",
    "m.add_seasonality(name='yearly', period=365, fourier_order=5) #Parameters\n",
    "m.fit(df_y_train)"
   ]
  },
  {
   "cell_type": "code",
   "execution_count": 18,
   "metadata": {},
   "outputs": [
    {
     "data": {
      "text/html": [
       "<div>\n",
       "<style scoped>\n",
       "    .dataframe tbody tr th:only-of-type {\n",
       "        vertical-align: middle;\n",
       "    }\n",
       "\n",
       "    .dataframe tbody tr th {\n",
       "        vertical-align: top;\n",
       "    }\n",
       "\n",
       "    .dataframe thead th {\n",
       "        text-align: right;\n",
       "    }\n",
       "</style>\n",
       "<table border=\"1\" class=\"dataframe\">\n",
       "  <thead>\n",
       "    <tr style=\"text-align: right;\">\n",
       "      <th></th>\n",
       "      <th>ds</th>\n",
       "      <th>yhat</th>\n",
       "      <th>yhat_lower</th>\n",
       "      <th>yhat_upper</th>\n",
       "    </tr>\n",
       "  </thead>\n",
       "  <tbody>\n",
       "    <tr>\n",
       "      <th>211</th>\n",
       "      <td>2018-08-31</td>\n",
       "      <td>12.319658</td>\n",
       "      <td>11.886416</td>\n",
       "      <td>12.770714</td>\n",
       "    </tr>\n",
       "    <tr>\n",
       "      <th>212</th>\n",
       "      <td>2018-09-30</td>\n",
       "      <td>12.152319</td>\n",
       "      <td>11.689683</td>\n",
       "      <td>12.608142</td>\n",
       "    </tr>\n",
       "    <tr>\n",
       "      <th>213</th>\n",
       "      <td>2018-10-31</td>\n",
       "      <td>11.839232</td>\n",
       "      <td>11.361009</td>\n",
       "      <td>12.334496</td>\n",
       "    </tr>\n",
       "    <tr>\n",
       "      <th>214</th>\n",
       "      <td>2018-11-30</td>\n",
       "      <td>11.699975</td>\n",
       "      <td>11.213921</td>\n",
       "      <td>12.205205</td>\n",
       "    </tr>\n",
       "    <tr>\n",
       "      <th>215</th>\n",
       "      <td>2018-12-31</td>\n",
       "      <td>11.725543</td>\n",
       "      <td>11.202392</td>\n",
       "      <td>12.228564</td>\n",
       "    </tr>\n",
       "  </tbody>\n",
       "</table>\n",
       "</div>"
      ],
      "text/plain": [
       "            ds       yhat  yhat_lower  yhat_upper\n",
       "211 2018-08-31  12.319658   11.886416   12.770714\n",
       "212 2018-09-30  12.152319   11.689683   12.608142\n",
       "213 2018-10-31  11.839232   11.361009   12.334496\n",
       "214 2018-11-30  11.699975   11.213921   12.205205\n",
       "215 2018-12-31  11.725543   11.202392   12.228564"
      ]
     },
     "execution_count": 18,
     "metadata": {},
     "output_type": "execute_result"
    }
   ],
   "source": [
    "#In this case the prediction is done over the whole data to visualize the model behavior\n",
    "y_predict = m.predict(df_y) \n",
    "y_predict[['ds', 'yhat', 'yhat_lower', 'yhat_upper']].tail()\n"
   ]
  },
  {
   "cell_type": "code",
   "execution_count": 19,
   "metadata": {},
   "outputs": [
    {
     "data": {
      "image/png": "[encoded data removed]",
      "text/plain": [
       "<Figure size 720x432 with 1 Axes>"
      ]
     },
     "metadata": {},
     "output_type": "display_data"
    },
    {
     "data": {
      "image/png": "[encoded data removed]",
      "text/plain": [
       "<Figure size 648x432 with 2 Axes>"
      ]
     },
     "metadata": {},
     "output_type": "display_data"
    }
   ],
   "source": [
    "fig1 = m.plot(y_predict)\n",
    "fig2 = m.plot_components(y_predict)\n",
    "\n",
    "plt.show()"
   ]
  },
  {
   "cell_type": "code",
   "execution_count": 20,
   "metadata": {},
   "outputs": [
    {
     "data": {
      "text/html": [
       "<div>\n",
       "<style scoped>\n",
       "    .dataframe tbody tr th:only-of-type {\n",
       "        vertical-align: middle;\n",
       "    }\n",
       "\n",
       "    .dataframe tbody tr th {\n",
       "        vertical-align: top;\n",
       "    }\n",
       "\n",
       "    .dataframe thead th {\n",
       "        text-align: right;\n",
       "    }\n",
       "</style>\n",
       "<table border=\"1\" class=\"dataframe\">\n",
       "  <thead>\n",
       "    <tr style=\"text-align: right;\">\n",
       "      <th></th>\n",
       "      <th>ds</th>\n",
       "      <th>yhat</th>\n",
       "      <th>yhat_lower</th>\n",
       "      <th>yhat_upper</th>\n",
       "    </tr>\n",
       "  </thead>\n",
       "  <tbody>\n",
       "    <tr>\n",
       "      <th>38</th>\n",
       "      <td>2018-08-31</td>\n",
       "      <td>12.319658</td>\n",
       "      <td>11.838969</td>\n",
       "      <td>12.770995</td>\n",
       "    </tr>\n",
       "    <tr>\n",
       "      <th>39</th>\n",
       "      <td>2018-09-30</td>\n",
       "      <td>12.152319</td>\n",
       "      <td>11.675610</td>\n",
       "      <td>12.648972</td>\n",
       "    </tr>\n",
       "    <tr>\n",
       "      <th>40</th>\n",
       "      <td>2018-10-31</td>\n",
       "      <td>11.839232</td>\n",
       "      <td>11.316899</td>\n",
       "      <td>12.350758</td>\n",
       "    </tr>\n",
       "    <tr>\n",
       "      <th>41</th>\n",
       "      <td>2018-11-30</td>\n",
       "      <td>11.699975</td>\n",
       "      <td>11.164961</td>\n",
       "      <td>12.205455</td>\n",
       "    </tr>\n",
       "    <tr>\n",
       "      <th>42</th>\n",
       "      <td>2018-12-31</td>\n",
       "      <td>11.725543</td>\n",
       "      <td>11.180026</td>\n",
       "      <td>12.261424</td>\n",
       "    </tr>\n",
       "  </tbody>\n",
       "</table>\n",
       "</div>"
      ],
      "text/plain": [
       "           ds       yhat  yhat_lower  yhat_upper\n",
       "38 2018-08-31  12.319658   11.838969   12.770995\n",
       "39 2018-09-30  12.152319   11.675610   12.648972\n",
       "40 2018-10-31  11.839232   11.316899   12.350758\n",
       "41 2018-11-30  11.699975   11.164961   12.205455\n",
       "42 2018-12-31  11.725543   11.180026   12.261424"
      ]
     },
     "execution_count": 20,
     "metadata": {},
     "output_type": "execute_result"
    }
   ],
   "source": [
    "#In this case the prediction is done over the whole data to visualize the model behavior\n",
    "y_predict = m.predict(df_y_test) \n",
    "y_predict[['ds', 'yhat', 'yhat_lower', 'yhat_upper']].tail()"
   ]
  },
  {
   "cell_type": "markdown",
   "metadata": {},
   "source": [
    "**Prophet Model assesment**\n",
    "\n",
    "It will be used root mean squared error. \n",
    "This is an absolute metric with 0 being the best possible result (no error). "
   ]
  },
  {
   "cell_type": "code",
   "execution_count": 21,
   "metadata": {},
   "outputs": [
    {
     "name": "stdout",
     "output_type": "stream",
     "text": [
      "square root mean_squared_log_error =0.04641876087501963\n",
      "square root mean_squared_error =0.5737011447405002\n"
     ]
    }
   ],
   "source": [
    "#Taking the square root of mean_squared_log_error\n",
    "mslogerror=np.sqrt(mean_squared_log_error(df_y_test['y'], y_predict['yhat'])) \n",
    "#Taking the square root of mean_squared_error\n",
    "mserror=np.sqrt(mean_squared_error(df_y_test['y'], y_predict['yhat'])) \n",
    "\n",
    "#saving results for later model selection\n",
    "df_model_assesment=df_model_assesment.append({'Model':'fbprophet', \n",
    "                                              'mean_squared_log_error':mslogerror, \n",
    "                                              'mean_squared_error':mserror}, ignore_index=True)\n",
    "\n",
    "\n",
    "print('square root mean_squared_log_error =' +str(mslogerror) )\n",
    "print('square root mean_squared_error =' +str(mserror) )"
   ]
  },
  {
   "cell_type": "code",
   "execution_count": 22,
   "metadata": {},
   "outputs": [
    {
     "data": {
      "text/html": [
       "<div>\n",
       "<style scoped>\n",
       "    .dataframe tbody tr th:only-of-type {\n",
       "        vertical-align: middle;\n",
       "    }\n",
       "\n",
       "    .dataframe tbody tr th {\n",
       "        vertical-align: top;\n",
       "    }\n",
       "\n",
       "    .dataframe thead th {\n",
       "        text-align: right;\n",
       "    }\n",
       "</style>\n",
       "<table border=\"1\" class=\"dataframe\">\n",
       "  <thead>\n",
       "    <tr style=\"text-align: right;\">\n",
       "      <th></th>\n",
       "      <th>Model</th>\n",
       "      <th>mean_squared_log_error</th>\n",
       "      <th>mean_squared_error</th>\n",
       "    </tr>\n",
       "  </thead>\n",
       "  <tbody>\n",
       "    <tr>\n",
       "      <th>0</th>\n",
       "      <td>fbprophet</td>\n",
       "      <td>0.046419</td>\n",
       "      <td>0.573701</td>\n",
       "    </tr>\n",
       "  </tbody>\n",
       "</table>\n",
       "</div>"
      ],
      "text/plain": [
       "       Model  mean_squared_log_error  mean_squared_error\n",
       "0  fbprophet                0.046419            0.573701"
      ]
     },
     "execution_count": 22,
     "metadata": {},
     "output_type": "execute_result"
    }
   ],
   "source": [
    "df_model_assesment"
   ]
  },
  {
   "cell_type": "code",
   "execution_count": 23,
   "metadata": {},
   "outputs": [
    {
     "name": "stderr",
     "output_type": "stream",
     "text": [
      "INFO:fbprophet:Making 5 forecasts with cutoffs between 2004-06-04 00:00:00 and 2014-05-31 00:00:00\n",
      "C:\\Users\\Elizabeth\\Anaconda3\\lib\\site-packages\\pystan\\misc.py:399: FutureWarning:\n",
      "\n",
      "Conversion of the second argument of issubdtype from `float` to `np.floating` is deprecated. In future, it will be treated as `np.float64 == np.dtype(float).type`.\n",
      "\n"
     ]
    },
    {
     "data": {
      "image/png": "[encoded data removed]",
      "text/plain": [
       "<Figure size 720x432 with 1 Axes>"
      ]
     },
     "metadata": {},
     "output_type": "display_data"
    }
   ],
   "source": [
    "df_cv = cross_validation(m, initial='912 days', period='912 days', horizon = '365 days')\n",
    "df_p = performance_metrics(df_cv)\n",
    "\n",
    "fig = plot_cross_validation_metric(df_cv, metric='rmse') \n"
   ]
  },
  {
   "cell_type": "markdown",
   "metadata": {},
   "source": [
    "According to te RMSE graph and as expected, the error increase when the prediction window (Horizon) is bigger"
   ]
  },
  {
   "cell_type": "markdown",
   "metadata": {},
   "source": [
    "### Moving Average"
   ]
  },
  {
   "cell_type": "markdown",
   "metadata": {},
   "source": [
    "The intention is to remove the trend by using moving average and predict the remaining part by using different regressors. Thus, the predicted value would be the addition of both predictions"
   ]
  },
  {
   "cell_type": "code",
   "execution_count": 24,
   "metadata": {},
   "outputs": [
    {
     "data": {
      "image/png": "[encoded data removed]",
      "text/plain": [
       "<Figure size 432x288 with 1 Axes>"
      ]
     },
     "metadata": {
      "needs_background": "light"
     },
     "output_type": "display_data"
    }
   ],
   "source": [
    "#Spliting for train (history) and test (future) for trend prediction\n",
    "test_size=0.2\n",
    "max_idx_train=round(len(df_monthly_US)*(1-test_size))\n",
    "\n",
    "df_data=df_monthly_US.copy()\n",
    "df_data.index=df_data['date']\n",
    "df_train=df_data.iloc[0:max_idx_train,slice(None)]\n",
    "df_test=df_data.iloc[max_idx_train:,slice(None)]\n",
    "\n",
    "#Getting Variables of interest for moving average (trend estimation)\n",
    "variable='Average retail price of electricity'\n",
    "ts_y_train=df_train[variable]\n",
    "ts_y_test=df_test[variable]\n",
    "\n",
    "window=12\n",
    "\n",
    "moving_avg_data=ts_y_train.copy()\n",
    "ts_y_hat_avg=ts_y_test.copy()\n",
    "\n",
    "\n",
    "#'fit the model'\n",
    "ts_moving_avg=ts_y_train.rolling(window).mean()\n",
    "\n",
    "#predict\n",
    "for i in ts_y_hat_avg.index :\n",
    "    ts_y_hat_avg.loc[i]=moving_avg_data.rolling(window).mean().iloc[-1]\n",
    "    moving_avg_data.loc[i]=ts_y_hat_avg.loc[i]\n",
    "    \n",
    "    \n",
    "   \n",
    "#Plotting data\n",
    "plt.plot(ts_y_train, marker='.', linestyle='none', label='train')\n",
    "plt.plot(ts_y_test, marker='.', linestyle='none', label='test') #figsize=(15,8), title= variable, fontsize=14\n",
    "plt.plot(ts_moving_avg, label='Moving Average')\n",
    "#plt.plot(y_hat_avg['moving_avg_forecast'], label='Moving Average Forecast')\n",
    "plt.plot(ts_y_hat_avg, label='Moving Average Forecast')\n",
    "\n",
    "#plt.plot(df_y_train['moving average'], label='Moving Average')\n",
    "\n",
    "plt.legend()\n",
    "plt.show()\n",
    "\n"
   ]
  },
  {
   "cell_type": "markdown",
   "metadata": {},
   "source": [
    "**Moving average model assesment**"
   ]
  },
  {
   "cell_type": "code",
   "execution_count": 25,
   "metadata": {},
   "outputs": [
    {
     "name": "stdout",
     "output_type": "stream",
     "text": [
      "square root mean_squared_log_error =0.026840902065889544\n",
      "square root mean_squared_error =0.32305920425052803\n"
     ]
    }
   ],
   "source": [
    "#Taking the square root of mean_squared_log_error\n",
    "mslogerror=np.sqrt(mean_squared_log_error( ts_y_test.values, ts_y_hat_avg)) \n",
    "#Taking the square root of mean_squared_error\n",
    "mserror=np.sqrt(mean_squared_error(ts_y_test.values, ts_y_hat_avg)) \n",
    "\n",
    "#saving results for later model selection\n",
    "df_model_assesment=df_model_assesment.append({'Model':'moving average', \n",
    "                                              'mean_squared_log_error':mslogerror, \n",
    "                                              'mean_squared_error':mserror}, ignore_index=True)\n",
    "\n",
    "\n",
    "print('square root mean_squared_log_error =' +str(mslogerror) )\n",
    "print('square root mean_squared_error =' +str(mserror) )"
   ]
  },
  {
   "cell_type": "markdown",
   "metadata": {},
   "source": [
    "### Moving Average + linear regression"
   ]
  },
  {
   "cell_type": "code",
   "execution_count": 26,
   "metadata": {},
   "outputs": [
    {
     "data": {
      "image/png": "[encoded data removed]",
      "text/plain": [
       "<Figure size 432x288 with 1 Axes>"
      ]
     },
     "metadata": {
      "needs_background": "light"
     },
     "output_type": "display_data"
    }
   ],
   "source": [
    "#Eliminating the trend component of our predicted variable by substracting the trend from the time series.\n",
    "ts_diff_y_train=ts_y_train-ts_moving_avg\n",
    "ts_diff_y_test=ts_y_test-ts_y_hat_avg\n",
    "\n",
    "df_data.loc[ts_diff_y_train.index,'diff_y']=ts_diff_y_train\n",
    "df_data.loc[ts_diff_y_test.index, 'diff_y']=ts_diff_y_test\n",
    "\n",
    "plt.plot(df_data['diff_y'])\n",
    "plt.plot(ts_diff_y_train, color='red')\n",
    "plt.plot(ts_diff_y_test, color='blue')\n",
    "plt.title('US Average retail price of electricity -  without trend')\n",
    "plt.ylabel('cts per Killowatt-hour')\n",
    "plt.show()\n",
    "\n",
    "df_data=df_data.reset_index(drop=True)\n",
    "df_data=df_data.dropna()"
   ]
  },
  {
   "cell_type": "code",
   "execution_count": 27,
   "metadata": {},
   "outputs": [],
   "source": [
    "# Create arrays for the features and the response variable\n",
    "# Create arrays for the features and the response variable\n",
    "variable=\"diff_y\"\n",
    "y = df_data[variable].values\n",
    "X = df_data.iloc[slice(None),[1,2,3,4,5,8,9]].copy()\n",
    "\n"
   ]
  },
  {
   "cell_type": "code",
   "execution_count": 28,
   "metadata": {},
   "outputs": [],
   "source": [
    "#Linear Regresion\n",
    "from sklearn.linear_model import LinearRegression\n",
    "\n",
    "#Create training and test sets\n",
    "X_train, X_test, y_train, y_test = train_test_split(X, y, test_size = 0.3, random_state=42)\n",
    "\n",
    "# Create the regressor: reg_all\n",
    "reg_all = LinearRegression()\n",
    "\n",
    "# Fit the regressor to the training data\n",
    "reg_all.fit(X_train, y_train)\n",
    "\n",
    "# Predict on the test data: y_pred\n",
    "y_pred = reg_all.predict(X_test)\n"
   ]
  },
  {
   "cell_type": "code",
   "execution_count": 29,
   "metadata": {},
   "outputs": [
    {
     "name": "stdout",
     "output_type": "stream",
     "text": [
      "R^2: 0.5493020341352242\n",
      "Root Mean Squared Error: 0.19793301926319554\n"
     ]
    }
   ],
   "source": [
    "# Compute and print R^2 and RMSE\n",
    "print(\"R^2: {}\".format(reg_all.score(X_test, y_test)))\n",
    "rmse = np.sqrt(mean_squared_error(y_test,y_pred))\n",
    "print(\"Root Mean Squared Error: {}\".format(rmse))"
   ]
  },
  {
   "cell_type": "code",
   "execution_count": 30,
   "metadata": {},
   "outputs": [
    {
     "name": "stdout",
     "output_type": "stream",
     "text": [
      "[-0.5240705   0.81423006  0.62003609  0.36811555 -1.55777589]\n",
      "Average 5-Fold CV Score: -0.05589294045441342\n"
     ]
    }
   ],
   "source": [
    "#Cross Validation\n",
    "# Compute 5-fold cross-validation scores: cv_scores\n",
    "cv_scores = cross_val_score(reg_all,X,y, cv=5)\n",
    "\n",
    "# Print the 5-fold cross-validation scores\n",
    "print(cv_scores)\n",
    "\n",
    "print(\"Average 5-Fold CV Score: {}\".format(np.mean(cv_scores)))"
   ]
  },
  {
   "cell_type": "code",
   "execution_count": 35,
   "metadata": {},
   "outputs": [
    {
     "data": {
      "image/png": "[encoded data removed]",
      "text/plain": [
       "<Figure size 432x288 with 1 Axes>"
      ]
     },
     "metadata": {
      "needs_background": "light"
     },
     "output_type": "display_data"
    }
   ],
   "source": [
    "plt.scatter(y_test, y_pred)\n",
    "plt.xlabel('True values')\n",
    "plt.ylabel('Predicted Values')\n",
    "plt.title('Linear Regression')\n",
    "plt.show()"
   ]
  },
  {
   "cell_type": "code",
   "execution_count": 41,
   "metadata": {},
   "outputs": [
    {
     "ename": "ValueError",
     "evalue": "could not convert string to Timestamp",
     "output_type": "error",
     "traceback": [
      "\u001b[1;31m---------------------------------------------------------------------------\u001b[0m",
      "\u001b[1;31mValueError\u001b[0m                                Traceback (most recent call last)",
      "\u001b[1;32mpandas\\_libs\\tslibs\\conversion.pyx\u001b[0m in \u001b[0;36mpandas._libs.tslibs.conversion.convert_str_to_tsobject\u001b[1;34m()\u001b[0m\n",
      "\u001b[1;32mpandas\\_libs\\tslibs\\np_datetime.pyx\u001b[0m in \u001b[0;36mpandas._libs.tslibs.np_datetime._string_to_dts\u001b[1;34m()\u001b[0m\n",
      "\u001b[1;31mValueError\u001b[0m: Error parsing datetime string \"date\" at position 0",
      "\nDuring handling of the above exception, another exception occurred:\n",
      "\u001b[1;31mValueError\u001b[0m                                Traceback (most recent call last)",
      "\u001b[1;32mpandas\\_libs\\tslibs\\conversion.pyx\u001b[0m in \u001b[0;36mpandas._libs.tslibs.conversion.convert_str_to_tsobject\u001b[1;34m()\u001b[0m\n",
      "\u001b[1;32mpandas\\_libs\\tslibs\\parsing.pyx\u001b[0m in \u001b[0;36mpandas._libs.tslibs.parsing.parse_datetime_string\u001b[1;34m()\u001b[0m\n",
      "\u001b[1;32m~\\Anaconda3\\lib\\site-packages\\dateutil\\parser\\_parser.py\u001b[0m in \u001b[0;36mparse\u001b[1;34m(timestr, parserinfo, **kwargs)\u001b[0m\n\u001b[0;32m   1355\u001b[0m     \u001b[1;32melse\u001b[0m\u001b[1;33m:\u001b[0m\u001b[1;33m\u001b[0m\u001b[1;33m\u001b[0m\u001b[0m\n\u001b[1;32m-> 1356\u001b[1;33m         \u001b[1;32mreturn\u001b[0m \u001b[0mDEFAULTPARSER\u001b[0m\u001b[1;33m.\u001b[0m\u001b[0mparse\u001b[0m\u001b[1;33m(\u001b[0m\u001b[0mtimestr\u001b[0m\u001b[1;33m,\u001b[0m \u001b[1;33m**\u001b[0m\u001b[0mkwargs\u001b[0m\u001b[1;33m)\u001b[0m\u001b[1;33m\u001b[0m\u001b[1;33m\u001b[0m\u001b[0m\n\u001b[0m\u001b[0;32m   1357\u001b[0m \u001b[1;33m\u001b[0m\u001b[0m\n",
      "\u001b[1;32m~\\Anaconda3\\lib\\site-packages\\dateutil\\parser\\_parser.py\u001b[0m in \u001b[0;36mparse\u001b[1;34m(self, timestr, default, ignoretz, tzinfos, **kwargs)\u001b[0m\n\u001b[0;32m    647\u001b[0m         \u001b[1;32mif\u001b[0m \u001b[0mres\u001b[0m \u001b[1;32mis\u001b[0m \u001b[1;32mNone\u001b[0m\u001b[1;33m:\u001b[0m\u001b[1;33m\u001b[0m\u001b[1;33m\u001b[0m\u001b[0m\n\u001b[1;32m--> 648\u001b[1;33m             \u001b[1;32mraise\u001b[0m \u001b[0mValueError\u001b[0m\u001b[1;33m(\u001b[0m\u001b[1;34m\"Unknown string format:\"\u001b[0m\u001b[1;33m,\u001b[0m \u001b[0mtimestr\u001b[0m\u001b[1;33m)\u001b[0m\u001b[1;33m\u001b[0m\u001b[1;33m\u001b[0m\u001b[0m\n\u001b[0m\u001b[0;32m    649\u001b[0m \u001b[1;33m\u001b[0m\u001b[0m\n",
      "\u001b[1;31mValueError\u001b[0m: ('Unknown string format:', 'date')",
      "\nDuring handling of the above exception, another exception occurred:\n",
      "\u001b[1;31mValueError\u001b[0m                                Traceback (most recent call last)",
      "\u001b[1;32m<ipython-input-41-20f1506372c3>\u001b[0m in \u001b[0;36m<module>\u001b[1;34m\u001b[0m\n\u001b[0;32m      2\u001b[0m \u001b[1;33m\u001b[0m\u001b[0m\n\u001b[0;32m      3\u001b[0m \u001b[1;33m\u001b[0m\u001b[0m\n\u001b[1;32m----> 4\u001b[1;33m \u001b[0midx\u001b[0m\u001b[1;33m=\u001b[0m\u001b[0mdf_data\u001b[0m\u001b[1;33m[\u001b[0m\u001b[1;34m'date'\u001b[0m\u001b[1;33m==\u001b[0m\u001b[0mts_diff_y_test\u001b[0m\u001b[1;33m.\u001b[0m\u001b[0mindex\u001b[0m\u001b[1;33m]\u001b[0m\u001b[1;33m.\u001b[0m\u001b[0mindex\u001b[0m\u001b[1;33m\u001b[0m\u001b[1;33m\u001b[0m\u001b[0m\n\u001b[0m\u001b[0;32m      5\u001b[0m \u001b[0mdf_data_test\u001b[0m\u001b[1;33m=\u001b[0m\u001b[0mdf_data\u001b[0m\u001b[1;33m.\u001b[0m\u001b[0mloc\u001b[0m\u001b[1;33m[\u001b[0m\u001b[0midx\u001b[0m\u001b[1;33m,\u001b[0m\u001b[0mslice\u001b[0m\u001b[1;33m(\u001b[0m\u001b[1;32mNone\u001b[0m\u001b[1;33m)\u001b[0m\u001b[1;33m]\u001b[0m\u001b[1;33m\u001b[0m\u001b[1;33m\u001b[0m\u001b[0m\n\u001b[0;32m      6\u001b[0m \u001b[1;33m\u001b[0m\u001b[0m\n",
      "\u001b[1;32m~\\Anaconda3\\lib\\site-packages\\pandas\\core\\indexes\\datetimes.py\u001b[0m in \u001b[0;36mwrapper\u001b[1;34m(self, other)\u001b[0m\n\u001b[0;32m    115\u001b[0m                 \u001b[0mself\u001b[0m\u001b[1;33m.\u001b[0m\u001b[0m_assert_tzawareness_compat\u001b[0m\u001b[1;33m(\u001b[0m\u001b[0mother\u001b[0m\u001b[1;33m)\u001b[0m\u001b[1;33m\u001b[0m\u001b[1;33m\u001b[0m\u001b[0m\n\u001b[0;32m    116\u001b[0m \u001b[1;33m\u001b[0m\u001b[0m\n\u001b[1;32m--> 117\u001b[1;33m             \u001b[0mother\u001b[0m \u001b[1;33m=\u001b[0m \u001b[0m_to_m8\u001b[0m\u001b[1;33m(\u001b[0m\u001b[0mother\u001b[0m\u001b[1;33m,\u001b[0m \u001b[0mtz\u001b[0m\u001b[1;33m=\u001b[0m\u001b[0mself\u001b[0m\u001b[1;33m.\u001b[0m\u001b[0mtz\u001b[0m\u001b[1;33m)\u001b[0m\u001b[1;33m\u001b[0m\u001b[1;33m\u001b[0m\u001b[0m\n\u001b[0m\u001b[0;32m    118\u001b[0m             \u001b[0mresult\u001b[0m \u001b[1;33m=\u001b[0m \u001b[0mfunc\u001b[0m\u001b[1;33m(\u001b[0m\u001b[0mother\u001b[0m\u001b[1;33m)\u001b[0m\u001b[1;33m\u001b[0m\u001b[1;33m\u001b[0m\u001b[0m\n\u001b[0;32m    119\u001b[0m             \u001b[1;32mif\u001b[0m \u001b[0misna\u001b[0m\u001b[1;33m(\u001b[0m\u001b[0mother\u001b[0m\u001b[1;33m)\u001b[0m\u001b[1;33m:\u001b[0m\u001b[1;33m\u001b[0m\u001b[1;33m\u001b[0m\u001b[0m\n",
      "\u001b[1;32m~\\Anaconda3\\lib\\site-packages\\pandas\\core\\indexes\\datetimes.py\u001b[0m in \u001b[0;36m_to_m8\u001b[1;34m(key, tz)\u001b[0m\n\u001b[0;32m   2892\u001b[0m     \u001b[1;32mif\u001b[0m \u001b[1;32mnot\u001b[0m \u001b[0misinstance\u001b[0m\u001b[1;33m(\u001b[0m\u001b[0mkey\u001b[0m\u001b[1;33m,\u001b[0m \u001b[0mTimestamp\u001b[0m\u001b[1;33m)\u001b[0m\u001b[1;33m:\u001b[0m\u001b[1;33m\u001b[0m\u001b[1;33m\u001b[0m\u001b[0m\n\u001b[0;32m   2893\u001b[0m         \u001b[1;31m# this also converts strings\u001b[0m\u001b[1;33m\u001b[0m\u001b[1;33m\u001b[0m\u001b[1;33m\u001b[0m\u001b[0m\n\u001b[1;32m-> 2894\u001b[1;33m         \u001b[0mkey\u001b[0m \u001b[1;33m=\u001b[0m \u001b[0mTimestamp\u001b[0m\u001b[1;33m(\u001b[0m\u001b[0mkey\u001b[0m\u001b[1;33m,\u001b[0m \u001b[0mtz\u001b[0m\u001b[1;33m=\u001b[0m\u001b[0mtz\u001b[0m\u001b[1;33m)\u001b[0m\u001b[1;33m\u001b[0m\u001b[1;33m\u001b[0m\u001b[0m\n\u001b[0m\u001b[0;32m   2895\u001b[0m \u001b[1;33m\u001b[0m\u001b[0m\n\u001b[0;32m   2896\u001b[0m     \u001b[1;32mreturn\u001b[0m \u001b[0mnp\u001b[0m\u001b[1;33m.\u001b[0m\u001b[0mint64\u001b[0m\u001b[1;33m(\u001b[0m\u001b[0mconversion\u001b[0m\u001b[1;33m.\u001b[0m\u001b[0mpydt_to_i8\u001b[0m\u001b[1;33m(\u001b[0m\u001b[0mkey\u001b[0m\u001b[1;33m)\u001b[0m\u001b[1;33m)\u001b[0m\u001b[1;33m.\u001b[0m\u001b[0mview\u001b[0m\u001b[1;33m(\u001b[0m\u001b[0m_NS_DTYPE\u001b[0m\u001b[1;33m)\u001b[0m\u001b[1;33m\u001b[0m\u001b[1;33m\u001b[0m\u001b[0m\n",
      "\u001b[1;32mpandas\\_libs\\tslibs\\timestamps.pyx\u001b[0m in \u001b[0;36mpandas._libs.tslibs.timestamps.Timestamp.__new__\u001b[1;34m()\u001b[0m\n",
      "\u001b[1;32mpandas\\_libs\\tslibs\\conversion.pyx\u001b[0m in \u001b[0;36mpandas._libs.tslibs.conversion.convert_to_tsobject\u001b[1;34m()\u001b[0m\n",
      "\u001b[1;32mpandas\\_libs\\tslibs\\conversion.pyx\u001b[0m in \u001b[0;36mpandas._libs.tslibs.conversion.convert_str_to_tsobject\u001b[1;34m()\u001b[0m\n",
      "\u001b[1;31mValueError\u001b[0m: could not convert string to Timestamp"
     ]
    }
   ],
   "source": [
    "\n",
    "\n",
    "\n",
    "idx=df_data['date'==ts_diff_y_test.index].index\n",
    "df_data_test=df_data.loc[idx,slice(None)]\n",
    "\n",
    "y_test = df_test[variable].values\n",
    "X_test = df_test.iloc[slice(None),[1,2,3,4,5,8,9]].copy()\n",
    "y_pred = reg_all.predict(X_test)"
   ]
  },
  {
   "cell_type": "code",
   "execution_count": 38,
   "metadata": {},
   "outputs": [
    {
     "data": {
      "text/html": [
       "<div>\n",
       "<style scoped>\n",
       "    .dataframe tbody tr th:only-of-type {\n",
       "        vertical-align: middle;\n",
       "    }\n",
       "\n",
       "    .dataframe tbody tr th {\n",
       "        vertical-align: top;\n",
       "    }\n",
       "\n",
       "    .dataframe thead th {\n",
       "        text-align: right;\n",
       "    }\n",
       "</style>\n",
       "<table border=\"1\" class=\"dataframe\">\n",
       "  <thead>\n",
       "    <tr style=\"text-align: right;\">\n",
       "      <th></th>\n",
       "      <th>date</th>\n",
       "      <th>Net generation</th>\n",
       "      <th>Retail sales of electricity</th>\n",
       "      <th>Revenue from retail sales of electricity</th>\n",
       "      <th>Average retail price of electricity</th>\n",
       "      <th>Number of customer accounts</th>\n",
       "      <th>TAVG</th>\n",
       "      <th>TMAX</th>\n",
       "      <th>TMIN</th>\n",
       "      <th>month</th>\n",
       "      <th>diff_y</th>\n",
       "    </tr>\n",
       "  </thead>\n",
       "  <tbody>\n",
       "    <tr>\n",
       "      <th>11</th>\n",
       "      <td>2001-12-31</td>\n",
       "      <td>5990.124078</td>\n",
       "      <td>5266.880613</td>\n",
       "      <td>370.025959</td>\n",
       "      <td>7.007059</td>\n",
       "      <td>2.575671e+06</td>\n",
       "      <td>37.346630</td>\n",
       "      <td>46.961961</td>\n",
       "      <td>27.739363</td>\n",
       "      <td>12</td>\n",
       "      <td>-0.229837</td>\n",
       "    </tr>\n",
       "    <tr>\n",
       "      <th>23</th>\n",
       "      <td>2002-12-31</td>\n",
       "      <td>6369.288451</td>\n",
       "      <td>5616.909729</td>\n",
       "      <td>390.942091</td>\n",
       "      <td>6.966667</td>\n",
       "      <td>2.620079e+06</td>\n",
       "      <td>34.392633</td>\n",
       "      <td>43.654988</td>\n",
       "      <td>25.144521</td>\n",
       "      <td>12</td>\n",
       "      <td>-0.163366</td>\n",
       "    </tr>\n",
       "    <tr>\n",
       "      <th>35</th>\n",
       "      <td>2003-12-31</td>\n",
       "      <td>6503.537824</td>\n",
       "      <td>5761.492983</td>\n",
       "      <td>411.157485</td>\n",
       "      <td>7.120784</td>\n",
       "      <td>2.638124e+06</td>\n",
       "      <td>34.738125</td>\n",
       "      <td>44.259766</td>\n",
       "      <td>25.254757</td>\n",
       "      <td>12</td>\n",
       "      <td>-0.213856</td>\n",
       "    </tr>\n",
       "    <tr>\n",
       "      <th>47</th>\n",
       "      <td>2004-12-31</td>\n",
       "      <td>6704.862027</td>\n",
       "      <td>5883.330934</td>\n",
       "      <td>433.007870</td>\n",
       "      <td>7.429216</td>\n",
       "      <td>2.669003e+06</td>\n",
       "      <td>34.610435</td>\n",
       "      <td>44.596685</td>\n",
       "      <td>24.630625</td>\n",
       "      <td>12</td>\n",
       "      <td>-0.117320</td>\n",
       "    </tr>\n",
       "    <tr>\n",
       "      <th>59</th>\n",
       "      <td>2005-12-31</td>\n",
       "      <td>6825.511188</td>\n",
       "      <td>6026.326928</td>\n",
       "      <td>494.522807</td>\n",
       "      <td>8.312745</td>\n",
       "      <td>2.713082e+06</td>\n",
       "      <td>32.230157</td>\n",
       "      <td>41.478535</td>\n",
       "      <td>22.981531</td>\n",
       "      <td>12</td>\n",
       "      <td>0.227206</td>\n",
       "    </tr>\n",
       "  </tbody>\n",
       "</table>\n",
       "</div>"
      ],
      "text/plain": [
       "         date  Net generation  Retail sales of electricity  \\\n",
       "11 2001-12-31     5990.124078                  5266.880613   \n",
       "23 2002-12-31     6369.288451                  5616.909729   \n",
       "35 2003-12-31     6503.537824                  5761.492983   \n",
       "47 2004-12-31     6704.862027                  5883.330934   \n",
       "59 2005-12-31     6825.511188                  6026.326928   \n",
       "\n",
       "    Revenue from retail sales of electricity  \\\n",
       "11                                370.025959   \n",
       "23                                390.942091   \n",
       "35                                411.157485   \n",
       "47                                433.007870   \n",
       "59                                494.522807   \n",
       "\n",
       "    Average retail price of electricity  Number of customer accounts  \\\n",
       "11                             7.007059                 2.575671e+06   \n",
       "23                             6.966667                 2.620079e+06   \n",
       "35                             7.120784                 2.638124e+06   \n",
       "47                             7.429216                 2.669003e+06   \n",
       "59                             8.312745                 2.713082e+06   \n",
       "\n",
       "         TAVG       TMAX       TMIN  month    diff_y  \n",
       "11  37.346630  46.961961  27.739363     12 -0.229837  \n",
       "23  34.392633  43.654988  25.144521     12 -0.163366  \n",
       "35  34.738125  44.259766  25.254757     12 -0.213856  \n",
       "47  34.610435  44.596685  24.630625     12 -0.117320  \n",
       "59  32.230157  41.478535  22.981531     12  0.227206  "
      ]
     },
     "execution_count": 38,
     "metadata": {},
     "output_type": "execute_result"
    }
   ],
   "source": [
    "df_data.h"
   ]
  },
  {
   "cell_type": "code",
   "execution_count": null,
   "metadata": {},
   "outputs": [],
   "source": []
  },
  {
   "cell_type": "code",
   "execution_count": null,
   "metadata": {},
   "outputs": [],
   "source": []
  },
  {
   "cell_type": "code",
   "execution_count": null,
   "metadata": {},
   "outputs": [],
   "source": []
  },
  {
   "cell_type": "code",
   "execution_count": null,
   "metadata": {},
   "outputs": [],
   "source": []
  },
  {
   "cell_type": "code",
   "execution_count": null,
   "metadata": {},
   "outputs": [],
   "source": [
    "df_model_assesment"
   ]
  },
  {
   "cell_type": "code",
   "execution_count": null,
   "metadata": {},
   "outputs": [],
   "source": [
    "#Estimating Moving Average Trend using ARMA \n",
    "from statsmodels.tsa.arima_model import ARMA #import\n",
    "model = ARMA(y_train, order=(0, 1))#instantiate\n",
    "\n",
    "model_fit = model.fit(disp=False) #fit\n",
    "yhat = model_fit.predict(len(y_test)+len(y_train))\n",
    "print(yhat)"
   ]
  },
  {
   "cell_type": "code",
   "execution_count": null,
   "metadata": {},
   "outputs": [],
   "source": [
    "moving_avg[-12:]"
   ]
  },
  {
   "cell_type": "code",
   "execution_count": null,
   "metadata": {},
   "outputs": [],
   "source": []
  },
  {
   "cell_type": "code",
   "execution_count": null,
   "metadata": {},
   "outputs": [],
   "source": []
  },
  {
   "cell_type": "code",
   "execution_count": null,
   "metadata": {},
   "outputs": [],
   "source": [
    "plt.plot(df_data[variable], color='blue', label='Original', marker='.', linestyle='none')\n",
    "plt.plot(moving_avg, color='red', label='Rolling Mean')\n",
    "plt.plot()\n",
    "#plt.plot(yhat, color='red', label='ARMA')\n",
    "#plt.plot(df_y_train['date'],moving_std, color='green', label='Rolling Std')\n",
    "plt.title('Average retail price of electricity - USA')\n",
    "plt.ylabel('cts per Killowatt-hour')\n",
    "plt.legend()\n",
    "plt.show()"
   ]
  },
  {
   "cell_type": "code",
   "execution_count": null,
   "metadata": {},
   "outputs": [],
   "source": []
  },
  {
   "cell_type": "code",
   "execution_count": null,
   "metadata": {},
   "outputs": [],
   "source": [
    "\n"
   ]
  },
  {
   "cell_type": "code",
   "execution_count": null,
   "metadata": {},
   "outputs": [],
   "source": []
  },
  {
   "cell_type": "code",
   "execution_count": null,
   "metadata": {},
   "outputs": [],
   "source": []
  },
  {
   "cell_type": "code",
   "execution_count": null,
   "metadata": {},
   "outputs": [],
   "source": []
  },
  {
   "cell_type": "code",
   "execution_count": null,
   "metadata": {},
   "outputs": [],
   "source": []
  },
  {
   "cell_type": "code",
   "execution_count": null,
   "metadata": {},
   "outputs": [],
   "source": []
  },
  {
   "cell_type": "code",
   "execution_count": null,
   "metadata": {},
   "outputs": [],
   "source": [
    "#Eliminating the trend component of our predicted variable\n",
    "df_monthly_US['price_without_trend']=df_monthly_US['Average retail price of electricity']-moving_avg\n",
    "plt.plot(df_monthly_US['date'],df_monthly_US['price_without_trend'], color='red')\n",
    "plt.title('US Average retail price of electricity -  without trend')\n",
    "plt.ylabel('cts per Killowatt-hour')\n",
    "plt.show()"
   ]
  },
  {
   "cell_type": "code",
   "execution_count": null,
   "metadata": {},
   "outputs": [],
   "source": [
    "df_monthly_US=df_monthly_US.dropna()\n",
    "df_monthly_US['Electricity Overhead']=df_monthly_US['Net generation']-df_monthly_US['Retail sales of electricity']\n",
    "df_monthly_US.info()"
   ]
  },
  {
   "cell_type": "code",
   "execution_count": null,
   "metadata": {},
   "outputs": [],
   "source": []
  },
  {
   "cell_type": "code",
   "execution_count": null,
   "metadata": {},
   "outputs": [],
   "source": []
  },
  {
   "cell_type": "code",
   "execution_count": null,
   "metadata": {},
   "outputs": [],
   "source": [
    "\n"
   ]
  },
  {
   "cell_type": "code",
   "execution_count": null,
   "metadata": {},
   "outputs": [],
   "source": [
    "\n"
   ]
  },
  {
   "cell_type": "code",
   "execution_count": null,
   "metadata": {},
   "outputs": [],
   "source": [
    "\n"
   ]
  },
  {
   "cell_type": "code",
   "execution_count": null,
   "metadata": {},
   "outputs": [],
   "source": [
    "from statsmodels.tsa.arima_model import ARMA"
   ]
  },
  {
   "cell_type": "code",
   "execution_count": null,
   "metadata": {},
   "outputs": [],
   "source": []
  },
  {
   "cell_type": "code",
   "execution_count": null,
   "metadata": {},
   "outputs": [],
   "source": []
  },
  {
   "cell_type": "code",
   "execution_count": null,
   "metadata": {},
   "outputs": [],
   "source": []
  },
  {
   "cell_type": "code",
   "execution_count": null,
   "metadata": {},
   "outputs": [],
   "source": []
  },
  {
   "cell_type": "code",
   "execution_count": null,
   "metadata": {},
   "outputs": [],
   "source": [
    "# list of ml models\n",
    "from sklearn.linear_model import LinearRegression\n",
    "from sklearn.linear_model import Lasso\n",
    "from sklearn.linear_model import Ridge\n",
    "from sklearn.linear_model import ElasticNet\n",
    "from sklearn.linear_model import HuberRegressor\n",
    "from sklearn.linear_model import Lars\n",
    "from sklearn.linear_model import LassoLars\n",
    "from sklearn.linear_model import PassiveAggressiveRegressor\n",
    "from sklearn.linear_model import RANSACRegressor\n",
    "from sklearn.linear_model import SGDRegressor\n",
    "\n",
    "def get_models(models=dict()):\n",
    "# linear models\n",
    "    models['lr'] = LinearRegression()\n",
    "    models['lasso'] = Lasso()\n",
    "    models['ridge'] = Ridge()\n",
    "    models['en'] = ElasticNet()\n",
    "    models['huber'] = HuberRegressor()\n",
    "    models['lars'] = Lars()\n",
    "    models['llars'] = LassoLars()\n",
    "    models['pa'] = PassiveAggressiveRegressor(max_iter=1000, tol=1e-3)\n",
    "    models['ranscac'] = RANSACRegressor()\n",
    "    models['sgd'] = SGDRegressor(max_iter=1000, tol=1e-3)\n",
    "    print('Defined %d models' % len(models))\n",
    "    return models"
   ]
  },
  {
   "cell_type": "code",
   "execution_count": null,
   "metadata": {},
   "outputs": [],
   "source": [
    "#feature selection\n",
    "# Instantiate a lasso regressor: lasso\n",
    "lasso = Lasso(alpha=0.4, normalize=True)\n",
    "\n",
    "# Fit the regressor to the data\n",
    "lasso.fit(X_train, y_train)\n",
    "\n",
    "# Compute and print the coefficients\n",
    "lasso_coef = lasso.coef_\n",
    "print(lasso_coef)\n",
    "\n",
    "df_columns=df_data2.drop(variable, axis=1).columns\n",
    "# Plot the coefficients\n",
    "plt.plot(range(len(df_columns)), lasso_coef)\n",
    "plt.xticks(range(len(df_columns)), df_columns.values, rotation=90)\n",
    "plt.title('coeficients - '+variable)\n",
    "plt.margins(0.02)\n",
    "plt.show()"
   ]
  },
  {
   "cell_type": "code",
   "execution_count": null,
   "metadata": {},
   "outputs": [],
   "source": []
  },
  {
   "cell_type": "code",
   "execution_count": null,
   "metadata": {},
   "outputs": [],
   "source": [
    "df_columns"
   ]
  },
  {
   "cell_type": "code",
   "execution_count": null,
   "metadata": {},
   "outputs": [],
   "source": [
    "from sklearn.model_selection import TimeSeriesSplit "
   ]
  },
  {
   "cell_type": "code",
   "execution_count": null,
   "metadata": {},
   "outputs": [],
   "source": []
  },
  {
   "cell_type": "code",
   "execution_count": null,
   "metadata": {},
   "outputs": [],
   "source": [
    "####Checking shape\n",
    "print('X.shape=',X.shape,'y.shape=',y.shape)"
   ]
  },
  {
   "cell_type": "code",
   "execution_count": null,
   "metadata": {},
   "outputs": [],
   "source": [
    "# Reshape X and y\n",
    "#y = y.reshape(-1,1)\n",
    "X = X.reshape(-1,1)\n",
    "print('X.shape=',X.shape,'y.shape=',y.shape)"
   ]
  },
  {
   "cell_type": "code",
   "execution_count": null,
   "metadata": {},
   "outputs": [],
   "source": [
    "from sklearn.model_selection import TimeSeriesSplitimport \n",
    "tscv = TimeSeriesSplit(n_splits=5)\n",
    "TimeSeriesSplit(n_splits=’warn’, max_train_size=None)"
   ]
  },
  {
   "cell_type": "markdown",
   "metadata": {},
   "source": [
    "#### Scikit-Learn Estimator Selection"
   ]
  },
  {
   "cell_type": "code",
   "execution_count": null,
   "metadata": {},
   "outputs": [],
   "source": [
    "def rmsle(y_true, y_pred):\n",
    "    return np.sqrt(mean_squared_log_error(y_true, y_pred))\n",
    "\n",
    "from sklearn.metrics import make_scorer\n",
    "root_mean_squared_log_error = make_scorer(rmsle, greater_is_better=False)\n",
    "\n",
    "from sklearn.model_selection import KFold\n",
    "kf = KFold(n_splits=5, shuffle=True)"
   ]
  },
  {
   "cell_type": "code",
   "execution_count": null,
   "metadata": {},
   "outputs": [],
   "source": [
    "from sklearn.linear_model import LinearRegression  # step 1 - import\n",
    "lr = LinearRegression()                            # step 2 - instantiate\n",
    "lr.fit(X, y)                                       # step 3 - fit\n",
    "\n",
    "lr.score(X, y)\n",
    "cross_val_score(lr, X, y, cv=kf, scoring=root_mean_squared_log_error)"
   ]
  },
  {
   "cell_type": "code",
   "execution_count": null,
   "metadata": {},
   "outputs": [],
   "source": [
    "\n",
    "\n"
   ]
  },
  {
   "cell_type": "code",
   "execution_count": null,
   "metadata": {},
   "outputs": [],
   "source": []
  },
  {
   "cell_type": "code",
   "execution_count": null,
   "metadata": {},
   "outputs": [],
   "source": []
  }
 ],
 "metadata": {
  "kernelspec": {
   "display_name": "Python 3",
   "language": "python",
   "name": "python3"
  },
  "language_info": {
   "codemirror_mode": {
    "name": "ipython",
    "version": 3
   },
   "file_extension": ".py",
   "mimetype": "text/x-python",
   "name": "python",
   "nbconvert_exporter": "python",
   "pygments_lexer": "ipython3",
   "version": "3.7.1"
  }
 },
 "nbformat": 4,
 "nbformat_minor": 2
}
