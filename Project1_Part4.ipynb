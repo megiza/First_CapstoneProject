{
 "cells": [
  {
   "cell_type": "markdown",
   "metadata": {},
   "source": [
    "# Capstone Project 1 - Part 4  Machine Learning\n"
   ]
  },
  {
   "cell_type": "markdown",
   "metadata": {},
   "source": [
    "# IN PROCESS ---- "
   ]
  },
  {
   "cell_type": "markdown",
   "metadata": {},
   "source": [
    "### Prediction of electricity rates (cost/Kwh) and consumption \n",
    "### Author: Elizabeth Izarra"
   ]
  },
  {
   "cell_type": "markdown",
   "metadata": {},
   "source": [
    "### General Problem:\n",
    "\n",
    "Electricity has a very dynamic market price since it is a commodity that is essential for daily life and non-storable where generation and demand must be continuously balanced. This is turn make it dependable of the weather conditions. "
   ]
  },
  {
   "cell_type": "markdown",
   "metadata": {},
   "source": [
    "### Data Sources:\n",
    "\n",
    "- U.S. Energy Information Administration (EIA)\n",
    "- National Oceanic and Atmospheric Administration NOAA\n",
    "\n",
    "See Capstone Project 1 - Part 1 Data Acquisition and Data Wrangling \n",
    "\n",
    "#### File used as source for this Capstone Project 1- Part 4:  \n",
    "AllData_2.csv  - generated in Capstone Project 1 - Part 1 Data Acquisition and Data Wrangling"
   ]
  },
  {
   "cell_type": "markdown",
   "metadata": {},
   "source": [
    "### Data Preparation\n",
    "\n"
   ]
  },
  {
   "cell_type": "markdown",
   "metadata": {},
   "source": [
    " From Project1_Part2 can be visualized that the Data is Time Series and non-stationary due to:\n",
    " \n",
    " 1.Trend - the Retail price of Electricy grows over time.\n",
    " \n",
    " 2.- Seasonality - the Retail price of Electricy tend to be higher in months with higher temperature\n",
    " "
   ]
  },
  {
   "cell_type": "markdown",
   "metadata": {},
   "source": [
    "### Model Selection"
   ]
  },
  {
   "cell_type": "markdown",
   "metadata": {},
   "source": [
    "According to the observed in the Project1_Part3 - Statistic Inference, it would be necessary a model per region considering time series.  Nevertheless, for the initial model selection,the predicted variable would be the US average temperature in order to simplify complexity and reduce computation time. "
   ]
  },
  {
   "cell_type": "markdown",
   "metadata": {},
   "source": [
    "#### Prophet\n",
    "\n",
    "Y =Xi(1) Trend + Xi(2) Seasonality + Xi(3) Regressors\n"
   ]
  },
  {
   "cell_type": "code",
   "execution_count": null,
   "metadata": {},
   "outputs": [],
   "source": []
  },
  {
   "cell_type": "markdown",
   "metadata": {},
   "source": [
    "\n",
    "\n",
    "### -------------------------------------------------------------------------------------------------------------------------------------------------------"
   ]
  },
  {
   "cell_type": "markdown",
   "metadata": {},
   "source": [
    "#### Importing relevant modules and defiing functions"
   ]
  },
  {
   "cell_type": "code",
   "execution_count": 1,
   "metadata": {},
   "outputs": [],
   "source": [
    "# import the relevant modules\n",
    "import pandas as pd\n",
    "%matplotlib inline\n",
    "import numpy as np\n",
    "from datetime import datetime\n",
    "import matplotlib.pyplot as plt\n"
   ]
  },
  {
   "cell_type": "code",
   "execution_count": 2,
   "metadata": {},
   "outputs": [],
   "source": [
    "#Annual and monthly mean in US\n",
    "def resample_mean_US(df, f='Y'):\n",
    "   \n",
    "    df['date']=pd.to_datetime(df['date'], format=\"%Y-%m-%d\")\n",
    "    if f=='m': \n",
    "        df['month']=df['date'].dt.month\n",
    "    df=df.set_index(['date'])\n",
    "    df = df.sort_values(by=['date'],ascending=[True])\n",
    "    df=df.resample(f).mean()\n",
    "    df.reset_index()\n",
    "    return df"
   ]
  },
  {
   "cell_type": "markdown",
   "metadata": {},
   "source": [
    "### Getting Data retrieved in Project_Part1: Data acquisition and data wrangling"
   ]
  },
  {
   "cell_type": "code",
   "execution_count": null,
   "metadata": {},
   "outputs": [],
   "source": []
  },
  {
   "cell_type": "code",
   "execution_count": 3,
   "metadata": {},
   "outputs": [],
   "source": [
    "#Getting Data retrieved in Project_Part1\n",
    "file='AllData_2.csv'\n",
    "df_data_orig=pd.read_csv(file)\n",
    "df_data=df_data_orig.copy()\n",
    "#delete any unnamed column product of saving DataFrames in range index to csv\n",
    "df_data.drop(df_data.columns[df_data.columns.str.contains('unnamed',case = False)],axis = 1, inplace=True)\n",
    "df_data.head()\n",
    "\n",
    "#getting US regions\n",
    "file='regions.csv'\n",
    "df_reg_orig=pd.read_csv(file)\n",
    "df_reg=df_reg_orig.copy()\n",
    "\n",
    "#Add column Region to the DataFrame\n",
    "for reg in df_reg.columns:\n",
    "    #getting the data for the states of New England\n",
    "    states=df_reg[reg].dropna()\n",
    "    list_states=list(states.values)\n",
    "\n",
    "    idx_region=df_data.index[df_data['state'].isin(list_states)]\n",
    "    df_data.loc[idx_region,'region']=reg\n",
    "\n",
    "df_data['date']=pd.to_datetime(df_data['date'], format=\"%Y-%m-%d\")"
   ]
  },
  {
   "cell_type": "code",
   "execution_count": 4,
   "metadata": {},
   "outputs": [
    {
     "name": "stdout",
     "output_type": "stream",
     "text": [
      "<class 'pandas.core.frame.DataFrame'>\n",
      "RangeIndex: 11016 entries, 0 to 11015\n",
      "Data columns (total 17 columns):\n",
      "date                                        11016 non-null datetime64[ns]\n",
      "iso3166                                     11016 non-null object\n",
      "Net generation                              11016 non-null float64\n",
      "unit_x                                      11016 non-null object\n",
      "Retail sales of electricity                 11016 non-null float64\n",
      "unit_y                                      11016 non-null object\n",
      "Revenue from retail sales of electricity    11015 non-null float64\n",
      "unit_x.1                                    11016 non-null object\n",
      "Average retail price of electricity         11016 non-null float64\n",
      "unit_y.1                                    11016 non-null object\n",
      "Number of customer accounts                 7078 non-null float64\n",
      "unit                                        6732 non-null object\n",
      "TAVG                                        11016 non-null float64\n",
      "TMAX                                        11016 non-null float64\n",
      "TMIN                                        11016 non-null float64\n",
      "state                                       11016 non-null object\n",
      "region                                      11016 non-null object\n",
      "dtypes: datetime64[ns](1), float64(8), object(8)\n",
      "memory usage: 1.4+ MB\n"
     ]
    }
   ],
   "source": [
    "df_data.info()"
   ]
  },
  {
   "cell_type": "code",
   "execution_count": 5,
   "metadata": {
    "scrolled": true
   },
   "outputs": [
    {
     "data": {
      "text/html": [
       "<div>\n",
       "<style scoped>\n",
       "    .dataframe tbody tr th:only-of-type {\n",
       "        vertical-align: middle;\n",
       "    }\n",
       "\n",
       "    .dataframe tbody tr th {\n",
       "        vertical-align: top;\n",
       "    }\n",
       "\n",
       "    .dataframe thead th {\n",
       "        text-align: right;\n",
       "    }\n",
       "</style>\n",
       "<table border=\"1\" class=\"dataframe\">\n",
       "  <thead>\n",
       "    <tr style=\"text-align: right;\">\n",
       "      <th></th>\n",
       "      <th>date</th>\n",
       "      <th>iso3166</th>\n",
       "      <th>Net generation</th>\n",
       "      <th>unit_x</th>\n",
       "      <th>Retail sales of electricity</th>\n",
       "      <th>unit_y</th>\n",
       "      <th>Revenue from retail sales of electricity</th>\n",
       "      <th>unit_x.1</th>\n",
       "      <th>Average retail price of electricity</th>\n",
       "      <th>unit_y.1</th>\n",
       "      <th>Number of customer accounts</th>\n",
       "      <th>unit</th>\n",
       "      <th>TAVG</th>\n",
       "      <th>TMAX</th>\n",
       "      <th>TMIN</th>\n",
       "      <th>state</th>\n",
       "      <th>region</th>\n",
       "    </tr>\n",
       "  </thead>\n",
       "  <tbody>\n",
       "    <tr>\n",
       "      <th>0</th>\n",
       "      <td>2018-12-01</td>\n",
       "      <td>USA-AK</td>\n",
       "      <td>508.48364</td>\n",
       "      <td>thousand megawatthours</td>\n",
       "      <td>541.79201</td>\n",
       "      <td>million kilowatthours</td>\n",
       "      <td>107.60184</td>\n",
       "      <td>million dollars</td>\n",
       "      <td>19.86</td>\n",
       "      <td>cents per kilowatthour</td>\n",
       "      <td>344957.0</td>\n",
       "      <td>number of customers</td>\n",
       "      <td>13.919636</td>\n",
       "      <td>19.644565</td>\n",
       "      <td>8.191273</td>\n",
       "      <td>Alaska</td>\n",
       "      <td>Pacific Noncontiguous</td>\n",
       "    </tr>\n",
       "    <tr>\n",
       "      <th>1</th>\n",
       "      <td>2018-11-01</td>\n",
       "      <td>USA-AK</td>\n",
       "      <td>459.47404</td>\n",
       "      <td>thousand megawatthours</td>\n",
       "      <td>507.34973</td>\n",
       "      <td>million kilowatthours</td>\n",
       "      <td>97.41503</td>\n",
       "      <td>million dollars</td>\n",
       "      <td>19.20</td>\n",
       "      <td>cents per kilowatthour</td>\n",
       "      <td>345444.0</td>\n",
       "      <td>number of customers</td>\n",
       "      <td>22.048986</td>\n",
       "      <td>27.529054</td>\n",
       "      <td>16.563514</td>\n",
       "      <td>Alaska</td>\n",
       "      <td>Pacific Noncontiguous</td>\n",
       "    </tr>\n",
       "    <tr>\n",
       "      <th>2</th>\n",
       "      <td>2018-10-01</td>\n",
       "      <td>USA-AK</td>\n",
       "      <td>437.14615</td>\n",
       "      <td>thousand megawatthours</td>\n",
       "      <td>472.18412</td>\n",
       "      <td>million kilowatthours</td>\n",
       "      <td>94.89770</td>\n",
       "      <td>million dollars</td>\n",
       "      <td>20.10</td>\n",
       "      <td>cents per kilowatthour</td>\n",
       "      <td>346050.0</td>\n",
       "      <td>number of customers</td>\n",
       "      <td>36.289632</td>\n",
       "      <td>43.016667</td>\n",
       "      <td>29.612667</td>\n",
       "      <td>Alaska</td>\n",
       "      <td>Pacific Noncontiguous</td>\n",
       "    </tr>\n",
       "    <tr>\n",
       "      <th>3</th>\n",
       "      <td>2018-09-01</td>\n",
       "      <td>USA-AK</td>\n",
       "      <td>566.15276</td>\n",
       "      <td>thousand megawatthours</td>\n",
       "      <td>466.33372</td>\n",
       "      <td>million kilowatthours</td>\n",
       "      <td>90.49571</td>\n",
       "      <td>million dollars</td>\n",
       "      <td>19.41</td>\n",
       "      <td>cents per kilowatthour</td>\n",
       "      <td>345366.0</td>\n",
       "      <td>number of customers</td>\n",
       "      <td>46.673422</td>\n",
       "      <td>55.364026</td>\n",
       "      <td>37.996678</td>\n",
       "      <td>Alaska</td>\n",
       "      <td>Pacific Noncontiguous</td>\n",
       "    </tr>\n",
       "    <tr>\n",
       "      <th>4</th>\n",
       "      <td>2018-08-01</td>\n",
       "      <td>USA-AK</td>\n",
       "      <td>636.60150</td>\n",
       "      <td>thousand megawatthours</td>\n",
       "      <td>471.08394</td>\n",
       "      <td>million kilowatthours</td>\n",
       "      <td>93.52328</td>\n",
       "      <td>million dollars</td>\n",
       "      <td>19.85</td>\n",
       "      <td>cents per kilowatthour</td>\n",
       "      <td>345757.0</td>\n",
       "      <td>number of customers</td>\n",
       "      <td>51.921967</td>\n",
       "      <td>58.719016</td>\n",
       "      <td>45.120328</td>\n",
       "      <td>Alaska</td>\n",
       "      <td>Pacific Noncontiguous</td>\n",
       "    </tr>\n",
       "  </tbody>\n",
       "</table>\n",
       "</div>"
      ],
      "text/plain": [
       "        date iso3166  Net generation                  unit_x  \\\n",
       "0 2018-12-01  USA-AK       508.48364  thousand megawatthours   \n",
       "1 2018-11-01  USA-AK       459.47404  thousand megawatthours   \n",
       "2 2018-10-01  USA-AK       437.14615  thousand megawatthours   \n",
       "3 2018-09-01  USA-AK       566.15276  thousand megawatthours   \n",
       "4 2018-08-01  USA-AK       636.60150  thousand megawatthours   \n",
       "\n",
       "   Retail sales of electricity                 unit_y  \\\n",
       "0                    541.79201  million kilowatthours   \n",
       "1                    507.34973  million kilowatthours   \n",
       "2                    472.18412  million kilowatthours   \n",
       "3                    466.33372  million kilowatthours   \n",
       "4                    471.08394  million kilowatthours   \n",
       "\n",
       "   Revenue from retail sales of electricity         unit_x.1  \\\n",
       "0                                 107.60184  million dollars   \n",
       "1                                  97.41503  million dollars   \n",
       "2                                  94.89770  million dollars   \n",
       "3                                  90.49571  million dollars   \n",
       "4                                  93.52328  million dollars   \n",
       "\n",
       "   Average retail price of electricity                unit_y.1  \\\n",
       "0                                19.86  cents per kilowatthour   \n",
       "1                                19.20  cents per kilowatthour   \n",
       "2                                20.10  cents per kilowatthour   \n",
       "3                                19.41  cents per kilowatthour   \n",
       "4                                19.85  cents per kilowatthour   \n",
       "\n",
       "   Number of customer accounts                 unit       TAVG       TMAX  \\\n",
       "0                     344957.0  number of customers  13.919636  19.644565   \n",
       "1                     345444.0  number of customers  22.048986  27.529054   \n",
       "2                     346050.0  number of customers  36.289632  43.016667   \n",
       "3                     345366.0  number of customers  46.673422  55.364026   \n",
       "4                     345757.0  number of customers  51.921967  58.719016   \n",
       "\n",
       "        TMIN   state                 region  \n",
       "0   8.191273  Alaska  Pacific Noncontiguous  \n",
       "1  16.563514  Alaska  Pacific Noncontiguous  \n",
       "2  29.612667  Alaska  Pacific Noncontiguous  \n",
       "3  37.996678  Alaska  Pacific Noncontiguous  \n",
       "4  45.120328  Alaska  Pacific Noncontiguous  "
      ]
     },
     "execution_count": 5,
     "metadata": {},
     "output_type": "execute_result"
    }
   ],
   "source": [
    "df_data.head()"
   ]
  },
  {
   "cell_type": "markdown",
   "metadata": {},
   "source": [
    "# ==============================================="
   ]
  },
  {
   "cell_type": "markdown",
   "metadata": {},
   "source": [
    "### Working for a model for the US mean temperature"
   ]
  },
  {
   "cell_type": "code",
   "execution_count": 6,
   "metadata": {},
   "outputs": [],
   "source": [
    "#Aggregating data per month for USA\n",
    "df=df_data.copy()\n",
    "df_monthly_US=resample_mean_US(df,f='m')\n",
    "df_monthly_US=df_monthly_US.reset_index()"
   ]
  },
  {
   "cell_type": "code",
   "execution_count": 7,
   "metadata": {},
   "outputs": [
    {
     "name": "stdout",
     "output_type": "stream",
     "text": [
      "<class 'pandas.core.frame.DataFrame'>\n",
      "RangeIndex: 216 entries, 0 to 215\n",
      "Data columns (total 10 columns):\n",
      "date                                        216 non-null datetime64[ns]\n",
      "Net generation                              216 non-null float64\n",
      "Retail sales of electricity                 216 non-null float64\n",
      "Revenue from retail sales of electricity    216 non-null float64\n",
      "Average retail price of electricity         216 non-null float64\n",
      "Number of customer accounts                 139 non-null float64\n",
      "TAVG                                        216 non-null float64\n",
      "TMAX                                        216 non-null float64\n",
      "TMIN                                        216 non-null float64\n",
      "month                                       216 non-null int64\n",
      "dtypes: datetime64[ns](1), float64(8), int64(1)\n",
      "memory usage: 17.0 KB\n"
     ]
    }
   ],
   "source": [
    "df_monthly_US.info()"
   ]
  },
  {
   "cell_type": "code",
   "execution_count": 8,
   "metadata": {},
   "outputs": [],
   "source": [
    "#Fill missing values\n"
   ]
  },
  {
   "cell_type": "code",
   "execution_count": 9,
   "metadata": {},
   "outputs": [],
   "source": [
    "# Create arrays for the features and the response variable\n",
    "variable=\"Average retail price of electricity\"\n",
    "y = df_monthly_US[variable].values\n",
    "X = df_monthly_US.drop(variable, axis=1).values"
   ]
  },
  {
   "cell_type": "code",
   "execution_count": 10,
   "metadata": {},
   "outputs": [],
   "source": [
    "#Split data\n",
    "from sklearn.model_selection import TimeSeriesSplit \n",
    "tscv = TimeSeriesSplit(n_splits=2)\n",
    "for train_index, test_index in tscv.split(X):\n",
    "   # print(\"TRAIN:\", train_index, \"TEST:\", test_index)\n",
    "    X_train, X_test = X[train_index], X[test_index]\n",
    "    y_train, y_test = y[train_index], y[test_index]\n"
   ]
  },
  {
   "cell_type": "code",
   "execution_count": 11,
   "metadata": {},
   "outputs": [
    {
     "data": {
      "text/plain": [
       "(144, 9)"
      ]
     },
     "execution_count": 11,
     "metadata": {},
     "output_type": "execute_result"
    }
   ],
   "source": [
    "X_train.shape"
   ]
  },
  {
   "cell_type": "markdown",
   "metadata": {},
   "source": [
    "### Facebook Prophet (fbprophet) Model"
   ]
  },
  {
   "cell_type": "code",
   "execution_count": 12,
   "metadata": {},
   "outputs": [],
   "source": [
    "from fbprophet import Prophet  #import facebook prophet"
   ]
  },
  {
   "cell_type": "code",
   "execution_count": 40,
   "metadata": {},
   "outputs": [],
   "source": [
    "variables=['date', \"Average retail price of electricity\"]\n",
    "df_y=df_monthly_US.loc[slice(None),variables]\n",
    "df_y.columns=['ds','y']"
   ]
  },
  {
   "cell_type": "code",
   "execution_count": 41,
   "metadata": {},
   "outputs": [
    {
     "data": {
      "text/html": [
       "<div>\n",
       "<style scoped>\n",
       "    .dataframe tbody tr th:only-of-type {\n",
       "        vertical-align: middle;\n",
       "    }\n",
       "\n",
       "    .dataframe tbody tr th {\n",
       "        vertical-align: top;\n",
       "    }\n",
       "\n",
       "    .dataframe thead th {\n",
       "        text-align: right;\n",
       "    }\n",
       "</style>\n",
       "<table border=\"1\" class=\"dataframe\">\n",
       "  <thead>\n",
       "    <tr style=\"text-align: right;\">\n",
       "      <th></th>\n",
       "      <th>ds</th>\n",
       "      <th>y</th>\n",
       "    </tr>\n",
       "  </thead>\n",
       "  <tbody>\n",
       "    <tr>\n",
       "      <th>173</th>\n",
       "      <td>2015-06-30</td>\n",
       "      <td>11.178431</td>\n",
       "    </tr>\n",
       "    <tr>\n",
       "      <th>174</th>\n",
       "      <td>2015-07-31</td>\n",
       "      <td>11.322353</td>\n",
       "    </tr>\n",
       "    <tr>\n",
       "      <th>175</th>\n",
       "      <td>2015-08-31</td>\n",
       "      <td>11.237255</td>\n",
       "    </tr>\n",
       "    <tr>\n",
       "      <th>176</th>\n",
       "      <td>2015-09-30</td>\n",
       "      <td>11.111961</td>\n",
       "    </tr>\n",
       "    <tr>\n",
       "      <th>177</th>\n",
       "      <td>2015-10-31</td>\n",
       "      <td>10.729216</td>\n",
       "    </tr>\n",
       "  </tbody>\n",
       "</table>\n",
       "</div>"
      ],
      "text/plain": [
       "            ds          y\n",
       "173 2015-06-30  11.178431\n",
       "174 2015-07-31  11.322353\n",
       "175 2015-08-31  11.237255\n",
       "176 2015-09-30  11.111961\n",
       "177 2015-10-31  10.729216"
      ]
     },
     "execution_count": 41,
     "metadata": {},
     "output_type": "execute_result"
    }
   ],
   "source": [
    "#Spliting for train and test\n",
    "test_size=0.2\n",
    "max_idx_train=round(len(df_y)*(1-test_size))\n",
    "df_y_train=df_y.iloc[0:max_idx_train,slice(None)]\n",
    "df_y_test=df_y.iloc[max_idx_train:,slice(None)]\n",
    "\n",
    "df_y_test.head()"
   ]
  },
  {
   "cell_type": "code",
   "execution_count": 42,
   "metadata": {},
   "outputs": [
    {
     "data": {
      "text/html": [
       "<div>\n",
       "<style scoped>\n",
       "    .dataframe tbody tr th:only-of-type {\n",
       "        vertical-align: middle;\n",
       "    }\n",
       "\n",
       "    .dataframe tbody tr th {\n",
       "        vertical-align: top;\n",
       "    }\n",
       "\n",
       "    .dataframe thead th {\n",
       "        text-align: right;\n",
       "    }\n",
       "</style>\n",
       "<table border=\"1\" class=\"dataframe\">\n",
       "  <thead>\n",
       "    <tr style=\"text-align: right;\">\n",
       "      <th></th>\n",
       "      <th>ds</th>\n",
       "      <th>y</th>\n",
       "    </tr>\n",
       "  </thead>\n",
       "  <tbody>\n",
       "    <tr>\n",
       "      <th>168</th>\n",
       "      <td>2015-01-31</td>\n",
       "      <td>10.828627</td>\n",
       "    </tr>\n",
       "    <tr>\n",
       "      <th>169</th>\n",
       "      <td>2015-02-28</td>\n",
       "      <td>11.002549</td>\n",
       "    </tr>\n",
       "    <tr>\n",
       "      <th>170</th>\n",
       "      <td>2015-03-31</td>\n",
       "      <td>10.931961</td>\n",
       "    </tr>\n",
       "    <tr>\n",
       "      <th>171</th>\n",
       "      <td>2015-04-30</td>\n",
       "      <td>10.701373</td>\n",
       "    </tr>\n",
       "    <tr>\n",
       "      <th>172</th>\n",
       "      <td>2015-05-31</td>\n",
       "      <td>10.798039</td>\n",
       "    </tr>\n",
       "  </tbody>\n",
       "</table>\n",
       "</div>"
      ],
      "text/plain": [
       "            ds          y\n",
       "168 2015-01-31  10.828627\n",
       "169 2015-02-28  11.002549\n",
       "170 2015-03-31  10.931961\n",
       "171 2015-04-30  10.701373\n",
       "172 2015-05-31  10.798039"
      ]
     },
     "execution_count": 42,
     "metadata": {},
     "output_type": "execute_result"
    }
   ],
   "source": [
    "df_y_train.tail()"
   ]
  },
  {
   "cell_type": "code",
   "execution_count": 43,
   "metadata": {},
   "outputs": [
    {
     "name": "stderr",
     "output_type": "stream",
     "text": [
      "INFO:fbprophet:Found custom seasonality named \"yearly\", disabling built-in yearly seasonality.\n",
      "INFO:fbprophet:Disabling weekly seasonality. Run prophet with weekly_seasonality=True to override this.\n",
      "INFO:fbprophet:Disabling daily seasonality. Run prophet with daily_seasonality=True to override this.\n",
      "C:\\Users\\Elizabeth\\Anaconda3\\lib\\site-packages\\pystan\\misc.py:399: FutureWarning:\n",
      "\n",
      "Conversion of the second argument of issubdtype from `float` to `np.floating` is deprecated. In future, it will be treated as `np.float64 == np.dtype(float).type`.\n",
      "\n"
     ]
    },
    {
     "data": {
      "text/plain": [
       "<fbprophet.forecaster.Prophet at 0xdfc6828>"
      ]
     },
     "execution_count": 43,
     "metadata": {},
     "output_type": "execute_result"
    }
   ],
   "source": [
    "m = Prophet() #Instantiate\n",
    "m.add_seasonality(name='yearly', period=365, fourier_order=5) #Parameters\n",
    "m.fit(df_y_train)"
   ]
  },
  {
   "cell_type": "code",
   "execution_count": 45,
   "metadata": {},
   "outputs": [
    {
     "data": {
      "text/html": [
       "<div>\n",
       "<style scoped>\n",
       "    .dataframe tbody tr th:only-of-type {\n",
       "        vertical-align: middle;\n",
       "    }\n",
       "\n",
       "    .dataframe tbody tr th {\n",
       "        vertical-align: top;\n",
       "    }\n",
       "\n",
       "    .dataframe thead th {\n",
       "        text-align: right;\n",
       "    }\n",
       "</style>\n",
       "<table border=\"1\" class=\"dataframe\">\n",
       "  <thead>\n",
       "    <tr style=\"text-align: right;\">\n",
       "      <th></th>\n",
       "      <th>ds</th>\n",
       "      <th>yhat</th>\n",
       "      <th>yhat_lower</th>\n",
       "      <th>yhat_upper</th>\n",
       "    </tr>\n",
       "  </thead>\n",
       "  <tbody>\n",
       "    <tr>\n",
       "      <th>211</th>\n",
       "      <td>2018-08-31</td>\n",
       "      <td>12.319658</td>\n",
       "      <td>11.873603</td>\n",
       "      <td>12.751188</td>\n",
       "    </tr>\n",
       "    <tr>\n",
       "      <th>212</th>\n",
       "      <td>2018-09-30</td>\n",
       "      <td>12.152319</td>\n",
       "      <td>11.677444</td>\n",
       "      <td>12.607817</td>\n",
       "    </tr>\n",
       "    <tr>\n",
       "      <th>213</th>\n",
       "      <td>2018-10-31</td>\n",
       "      <td>11.839232</td>\n",
       "      <td>11.334632</td>\n",
       "      <td>12.316176</td>\n",
       "    </tr>\n",
       "    <tr>\n",
       "      <th>214</th>\n",
       "      <td>2018-11-30</td>\n",
       "      <td>11.699975</td>\n",
       "      <td>11.201645</td>\n",
       "      <td>12.203091</td>\n",
       "    </tr>\n",
       "    <tr>\n",
       "      <th>215</th>\n",
       "      <td>2018-12-31</td>\n",
       "      <td>11.725543</td>\n",
       "      <td>11.196964</td>\n",
       "      <td>12.210993</td>\n",
       "    </tr>\n",
       "  </tbody>\n",
       "</table>\n",
       "</div>"
      ],
      "text/plain": [
       "            ds       yhat  yhat_lower  yhat_upper\n",
       "211 2018-08-31  12.319658   11.873603   12.751188\n",
       "212 2018-09-30  12.152319   11.677444   12.607817\n",
       "213 2018-10-31  11.839232   11.334632   12.316176\n",
       "214 2018-11-30  11.699975   11.201645   12.203091\n",
       "215 2018-12-31  11.725543   11.196964   12.210993"
      ]
     },
     "execution_count": 45,
     "metadata": {},
     "output_type": "execute_result"
    }
   ],
   "source": [
    "#In this case the prediction is done over the whole data to visualize the model behavior\n",
    "y_predict = m.predict(df_y) \n",
    "y_predict[['ds', 'yhat', 'yhat_lower', 'yhat_upper']].tail()\n"
   ]
  },
  {
   "cell_type": "code",
   "execution_count": 46,
   "metadata": {},
   "outputs": [
    {
     "data": {
      "image/png": "[encoded data removed]",
      "text/plain": [
       "<Figure size 720x432 with 1 Axes>"
      ]
     },
     "metadata": {},
     "output_type": "display_data"
    },
    {
     "data": {
      "image/png": "[encoded data removed]",
      "text/plain": [
       "<Figure size 648x432 with 2 Axes>"
      ]
     },
     "metadata": {},
     "output_type": "display_data"
    }
   ],
   "source": [
    "fig1 = m.plot(y_predict)\n",
    "fig2 = m.plot_components(y_predict)\n",
    "\n",
    "plt.show()"
   ]
  },
  {
   "cell_type": "code",
   "execution_count": null,
   "metadata": {},
   "outputs": [],
   "source": []
  },
  {
   "cell_type": "code",
   "execution_count": null,
   "metadata": {},
   "outputs": [],
   "source": []
  },
  {
   "cell_type": "code",
   "execution_count": null,
   "metadata": {},
   "outputs": [],
   "source": []
  },
  {
   "cell_type": "code",
   "execution_count": null,
   "metadata": {},
   "outputs": [],
   "source": []
  },
  {
   "cell_type": "markdown",
   "metadata": {},
   "source": [
    "### Moving Average"
   ]
  },
  {
   "cell_type": "code",
   "execution_count": 19,
   "metadata": {},
   "outputs": [],
   "source": [
    "#Estimating Trend\n",
    "moving_avg=df_monthly_US['Average retail price of electricity'].rolling(12).mean()"
   ]
  },
  {
   "cell_type": "code",
   "execution_count": 20,
   "metadata": {},
   "outputs": [
    {
     "data": {
      "image/png": "[encoded data removed]",
      "text/plain": [
       "<Figure size 432x288 with 1 Axes>"
      ]
     },
     "metadata": {
      "needs_background": "light"
     },
     "output_type": "display_data"
    }
   ],
   "source": [
    "plt.plot(df_monthly_US['date'],df_monthly_US['Average retail price of electricity'], color='blue', label='Actual Data')\n",
    "plt.plot(df_monthly_US['date'],moving_avg, color='red', label='Estimated Trend')\n",
    "plt.title('Average retail price of electricity - USA')\n",
    "plt.ylabel('cts per Killowatt-hour')\n",
    "plt.legend()\n",
    "plt.show()"
   ]
  },
  {
   "cell_type": "code",
   "execution_count": 21,
   "metadata": {},
   "outputs": [
    {
     "data": {
      "image/png": "[encoded data removed]",
      "text/plain": [
       "<Figure size 432x288 with 1 Axes>"
      ]
     },
     "metadata": {
      "needs_background": "light"
     },
     "output_type": "display_data"
    }
   ],
   "source": [
    "df_monthly_US['price_without_trend']=df_monthly_US['Average retail price of electricity']-moving_avg\n",
    "plt.plot(df_monthly_US['date'],df_monthly_US['price_without_trend'], color='red')\n",
    "plt.title('Average retail price of electricity - USA')\n",
    "plt.ylabel('cts per Killowatt-hour')\n",
    "plt.show()"
   ]
  },
  {
   "cell_type": "code",
   "execution_count": null,
   "metadata": {},
   "outputs": [],
   "source": []
  },
  {
   "cell_type": "code",
   "execution_count": null,
   "metadata": {},
   "outputs": [],
   "source": []
  },
  {
   "cell_type": "markdown",
   "metadata": {},
   "source": [
    "--------------------------------"
   ]
  },
  {
   "cell_type": "code",
   "execution_count": 22,
   "metadata": {},
   "outputs": [],
   "source": []
  },
  {
   "cell_type": "code",
   "execution_count": 37,
   "metadata": {},
   "outputs": [
    {
     "data": {
      "text/html": [
       "<div>\n",
       "<style scoped>\n",
       "    .dataframe tbody tr th:only-of-type {\n",
       "        vertical-align: middle;\n",
       "    }\n",
       "\n",
       "    .dataframe tbody tr th {\n",
       "        vertical-align: top;\n",
       "    }\n",
       "\n",
       "    .dataframe thead th {\n",
       "        text-align: right;\n",
       "    }\n",
       "</style>\n",
       "<table border=\"1\" class=\"dataframe\">\n",
       "  <thead>\n",
       "    <tr style=\"text-align: right;\">\n",
       "      <th></th>\n",
       "      <th>Net generation</th>\n",
       "      <th>Retail sales of electricity</th>\n",
       "      <th>Revenue from retail sales of electricity</th>\n",
       "      <th>Average retail price of electricity</th>\n",
       "      <th>Number of customer accounts</th>\n",
       "      <th>TAVG</th>\n",
       "      <th>TMAX</th>\n",
       "      <th>TMIN</th>\n",
       "      <th>Electricity Overhead</th>\n",
       "    </tr>\n",
       "  </thead>\n",
       "  <tbody>\n",
       "    <tr>\n",
       "      <th>168</th>\n",
       "      <td>15564.10894</td>\n",
       "      <td>11676.35180</td>\n",
       "      <td>1082.96113</td>\n",
       "      <td>9.27</td>\n",
       "      <td>5945239.0</td>\n",
       "      <td>33.743411</td>\n",
       "      <td>41.550388</td>\n",
       "      <td>25.924806</td>\n",
       "      <td>3887.75714</td>\n",
       "    </tr>\n",
       "    <tr>\n",
       "      <th>169</th>\n",
       "      <td>14955.32537</td>\n",
       "      <td>10854.89158</td>\n",
       "      <td>1046.67315</td>\n",
       "      <td>9.64</td>\n",
       "      <td>5934805.0</td>\n",
       "      <td>34.935937</td>\n",
       "      <td>42.086822</td>\n",
       "      <td>27.834375</td>\n",
       "      <td>4100.43379</td>\n",
       "    </tr>\n",
       "    <tr>\n",
       "      <th>170</th>\n",
       "      <td>14217.86233</td>\n",
       "      <td>10716.76405</td>\n",
       "      <td>1033.80830</td>\n",
       "      <td>9.65</td>\n",
       "      <td>5934505.0</td>\n",
       "      <td>53.595455</td>\n",
       "      <td>63.924627</td>\n",
       "      <td>43.269697</td>\n",
       "      <td>3501.09828</td>\n",
       "    </tr>\n",
       "    <tr>\n",
       "      <th>171</th>\n",
       "      <td>15447.61634</td>\n",
       "      <td>11808.19585</td>\n",
       "      <td>1095.54342</td>\n",
       "      <td>9.28</td>\n",
       "      <td>5921758.0</td>\n",
       "      <td>69.679688</td>\n",
       "      <td>80.362791</td>\n",
       "      <td>58.987500</td>\n",
       "      <td>3639.42049</td>\n",
       "    </tr>\n",
       "    <tr>\n",
       "      <th>172</th>\n",
       "      <td>17599.69981</td>\n",
       "      <td>13976.16877</td>\n",
       "      <td>1336.10177</td>\n",
       "      <td>9.56</td>\n",
       "      <td>5933699.0</td>\n",
       "      <td>74.589231</td>\n",
       "      <td>84.474809</td>\n",
       "      <td>64.688462</td>\n",
       "      <td>3623.53104</td>\n",
       "    </tr>\n",
       "  </tbody>\n",
       "</table>\n",
       "</div>"
      ],
      "text/plain": [
       "     Net generation  Retail sales of electricity  \\\n",
       "168     15564.10894                  11676.35180   \n",
       "169     14955.32537                  10854.89158   \n",
       "170     14217.86233                  10716.76405   \n",
       "171     15447.61634                  11808.19585   \n",
       "172     17599.69981                  13976.16877   \n",
       "\n",
       "     Revenue from retail sales of electricity  \\\n",
       "168                                1082.96113   \n",
       "169                                1046.67315   \n",
       "170                                1033.80830   \n",
       "171                                1095.54342   \n",
       "172                                1336.10177   \n",
       "\n",
       "     Average retail price of electricity  Number of customer accounts  \\\n",
       "168                                 9.27                    5945239.0   \n",
       "169                                 9.64                    5934805.0   \n",
       "170                                 9.65                    5934505.0   \n",
       "171                                 9.28                    5921758.0   \n",
       "172                                 9.56                    5933699.0   \n",
       "\n",
       "          TAVG       TMAX       TMIN  Electricity Overhead  \n",
       "168  33.743411  41.550388  25.924806            3887.75714  \n",
       "169  34.935937  42.086822  27.834375            4100.43379  \n",
       "170  53.595455  63.924627  43.269697            3501.09828  \n",
       "171  69.679688  80.362791  58.987500            3639.42049  \n",
       "172  74.589231  84.474809  64.688462            3623.53104  "
      ]
     },
     "execution_count": 37,
     "metadata": {},
     "output_type": "execute_result"
    }
   ],
   "source": [
    "#First try removing dates and any other feature different to float type\n",
    "\n",
    "df_data2=df_data.iloc[idx,[2,4,6,8,10,12,13,14]].copy()\n",
    "df_data2.dropna(axis=0, inplace=True)\n",
    "df_data2['Electricity Overhead']=df_data2['Net generation']-df_data2['Retail sales of electricity']\n",
    "df_data2.head()"
   ]
  },
  {
   "cell_type": "code",
   "execution_count": 24,
   "metadata": {},
   "outputs": [],
   "source": [
    "# Import necessary modules\n",
    "from sklearn.linear_model import LinearRegression\n",
    "from sklearn.linear_model import Lasso\n",
    "from sklearn.metrics import mean_squared_error\n",
    "from sklearn.model_selection import train_test_split\n",
    "from sklearn.model_selection import cross_val_score"
   ]
  },
  {
   "cell_type": "code",
   "execution_count": 25,
   "metadata": {},
   "outputs": [],
   "source": [
    "# Create arrays for the features and the response variable\n",
    "variable=\"Average retail price of electricity\"\n",
    "y = df_data2[variable].values\n",
    "X = df_data2.drop(variable, axis=1).values"
   ]
  },
  {
   "cell_type": "code",
   "execution_count": 26,
   "metadata": {},
   "outputs": [],
   "source": [
    "#Linear Regresion\n",
    "#Create training and test sets\n",
    "X_train, X_test, y_train, y_test = train_test_split(X, y, test_size = 0.3, random_state=42)\n",
    "\n",
    "# Create the regressor: reg_all\n",
    "reg_all = LinearRegression()\n",
    "\n",
    "# Fit the regressor to the training data\n",
    "reg_all.fit(X_train, y_train)\n",
    "\n",
    "# Predict on the test data: y_pred\n",
    "y_pred = reg_all.predict(X_test)\n",
    "\n"
   ]
  },
  {
   "cell_type": "code",
   "execution_count": 27,
   "metadata": {},
   "outputs": [
    {
     "name": "stdout",
     "output_type": "stream",
     "text": [
      "R^2: 0.9629128509265689\n",
      "Root Mean Squared Error: 0.24130066408953674\n"
     ]
    }
   ],
   "source": [
    "# Compute and print R^2 and RMSE\n",
    "print(\"R^2: {}\".format(reg_all.score(X_test, y_test)))\n",
    "rmse = np.sqrt(mean_squared_error(y_test,y_pred))\n",
    "print(\"Root Mean Squared Error: {}\".format(rmse))\n"
   ]
  },
  {
   "cell_type": "code",
   "execution_count": 28,
   "metadata": {},
   "outputs": [
    {
     "name": "stdout",
     "output_type": "stream",
     "text": [
      "[0.9045651  0.91930994 0.95866355 0.96969102 0.82627548]\n",
      "Average 5-Fold CV Score: 0.9157010165309731\n"
     ]
    }
   ],
   "source": [
    "#Cross Validation\n",
    "# Compute 5-fold cross-validation scores: cv_scores\n",
    "cv_scores = cross_val_score(reg_all,X,y, cv=5)\n",
    "\n",
    "# Print the 5-fold cross-validation scores\n",
    "print(cv_scores)\n",
    "\n",
    "print(\"Average 5-Fold CV Score: {}\".format(np.mean(cv_scores)))\n"
   ]
  },
  {
   "cell_type": "code",
   "execution_count": 29,
   "metadata": {},
   "outputs": [
    {
     "data": {
      "image/png": "[encoded data removed]",
      "text/plain": [
       "<Figure size 432x288 with 1 Axes>"
      ]
     },
     "metadata": {
      "needs_background": "light"
     },
     "output_type": "display_data"
    }
   ],
   "source": [
    "plt.scatter(y_test, y_pred)\n",
    "plt.xlabel('True values')\n",
    "plt.ylabel('Predicted Values')\n",
    "plt.title('Linear Regression')\n",
    "plt.show()\n"
   ]
  },
  {
   "cell_type": "code",
   "execution_count": 30,
   "metadata": {},
   "outputs": [
    {
     "name": "stdout",
     "output_type": "stream",
     "text": [
      "[-0. -0.  0.  0.  0.  0.  0. -0.]\n"
     ]
    },
    {
     "data": {
      "image/png": "[encoded data removed]",
      "text/plain": [
       "<Figure size 432x288 with 1 Axes>"
      ]
     },
     "metadata": {
      "needs_background": "light"
     },
     "output_type": "display_data"
    }
   ],
   "source": [
    "#feature selection\n",
    "# Instantiate a lasso regressor: lasso\n",
    "lasso = Lasso(alpha=0.4, normalize=True)\n",
    "\n",
    "# Fit the regressor to the data\n",
    "lasso.fit(X_train, y_train)\n",
    "\n",
    "# Compute and print the coefficients\n",
    "lasso_coef = lasso.coef_\n",
    "print(lasso_coef)\n",
    "\n",
    "df_columns=df_data2.drop(variable, axis=1).columns\n",
    "# Plot the coefficients\n",
    "plt.plot(range(len(df_columns)), lasso_coef)\n",
    "plt.xticks(range(len(df_columns)), df_columns.values, rotation=90)\n",
    "plt.title('coeficients - '+variable)\n",
    "plt.margins(0.02)\n",
    "plt.show()"
   ]
  },
  {
   "cell_type": "code",
   "execution_count": null,
   "metadata": {},
   "outputs": [],
   "source": []
  },
  {
   "cell_type": "code",
   "execution_count": 31,
   "metadata": {},
   "outputs": [
    {
     "data": {
      "text/plain": [
       "Index(['Net generation', 'Retail sales of electricity',\n",
       "       'Revenue from retail sales of electricity',\n",
       "       'Number of customer accounts', 'TAVG', 'TMAX', 'TMIN',\n",
       "       'Electricity Overhead'],\n",
       "      dtype='object')"
      ]
     },
     "execution_count": 31,
     "metadata": {},
     "output_type": "execute_result"
    }
   ],
   "source": [
    "df_columns"
   ]
  },
  {
   "cell_type": "code",
   "execution_count": 32,
   "metadata": {},
   "outputs": [],
   "source": [
    "from sklearn.model_selection import TimeSeriesSplit "
   ]
  },
  {
   "cell_type": "code",
   "execution_count": 33,
   "metadata": {},
   "outputs": [],
   "source": [
    "# Create arrays for the features and the response variable\n",
    "variable=\"Retail sales of electricity\"\n",
    "y = df_data[variable].values\n",
    "X = df_data.drop(variable, axis=1).values"
   ]
  },
  {
   "cell_type": "code",
   "execution_count": 34,
   "metadata": {},
   "outputs": [
    {
     "name": "stdout",
     "output_type": "stream",
     "text": [
      "X.shape= (11016, 16) y.shape= (11016,)\n"
     ]
    }
   ],
   "source": [
    "####Checking shape\n",
    "print('X.shape=',X.shape,'y.shape=',y.shape)"
   ]
  },
  {
   "cell_type": "code",
   "execution_count": 35,
   "metadata": {},
   "outputs": [
    {
     "name": "stdout",
     "output_type": "stream",
     "text": [
      "X.shape= (176256, 1) y.shape= (11016,)\n"
     ]
    }
   ],
   "source": [
    "# Reshape X and y\n",
    "#y = y.reshape(-1,1)\n",
    "X = X.reshape(-1,1)\n",
    "print('X.shape=',X.shape,'y.shape=',y.shape)"
   ]
  },
  {
   "cell_type": "code",
   "execution_count": 36,
   "metadata": {},
   "outputs": [
    {
     "ename": "SyntaxError",
     "evalue": "invalid character in identifier (<ipython-input-36-0db11dacc824>, line 3)",
     "output_type": "error",
     "traceback": [
      "\u001b[1;36m  File \u001b[1;32m\"<ipython-input-36-0db11dacc824>\"\u001b[1;36m, line \u001b[1;32m3\u001b[0m\n\u001b[1;33m    TimeSeriesSplit(n_splits=’warn’, max_train_size=None)\u001b[0m\n\u001b[1;37m                                  ^\u001b[0m\n\u001b[1;31mSyntaxError\u001b[0m\u001b[1;31m:\u001b[0m invalid character in identifier\n"
     ]
    }
   ],
   "source": [
    "from sklearn.model_selection import TimeSeriesSplitimport \n",
    "tscv = TimeSeriesSplit(n_splits=5)\n",
    "TimeSeriesSplit(n_splits=’warn’, max_train_size=None)"
   ]
  },
  {
   "cell_type": "markdown",
   "metadata": {},
   "source": [
    "#### Scikit-Learn Estimator Selection"
   ]
  },
  {
   "cell_type": "code",
   "execution_count": null,
   "metadata": {},
   "outputs": [],
   "source": [
    "def rmsle(y_true, y_pred):\n",
    "    return np.sqrt(mean_squared_log_error(y_true, y_pred))\n",
    "\n",
    "from sklearn.metrics import make_scorer\n",
    "root_mean_squared_log_error = make_scorer(rmsle, greater_is_better=False)\n",
    "\n",
    "from sklearn.model_selection import KFold\n",
    "kf = KFold(n_splits=5, shuffle=True)"
   ]
  },
  {
   "cell_type": "code",
   "execution_count": null,
   "metadata": {},
   "outputs": [],
   "source": [
    "from sklearn.linear_model import LinearRegression  # step 1 - import\n",
    "lr = LinearRegression()                            # step 2 - instantiate\n",
    "lr.fit(X, y)                                       # step 3 - fit\n",
    "\n",
    "lr.score(X, y)\n",
    "cross_val_score(lr, X, y, cv=kf, scoring=root_mean_squared_log_error)"
   ]
  },
  {
   "cell_type": "code",
   "execution_count": null,
   "metadata": {},
   "outputs": [],
   "source": [
    "\n",
    "\n"
   ]
  },
  {
   "cell_type": "code",
   "execution_count": null,
   "metadata": {},
   "outputs": [],
   "source": []
  },
  {
   "cell_type": "code",
   "execution_count": null,
   "metadata": {},
   "outputs": [],
   "source": [
    "# list of ml models\n",
    "from sklearn.linear_model import LinearRegression\n",
    "from sklearn.linear_model import Lasso\n",
    "from sklearn.linear_model import Ridge\n",
    "from sklearn.linear_model import ElasticNet\n",
    "from sklearn.linear_model import HuberRegressor\n",
    "from sklearn.linear_model import Lars\n",
    "from sklearn.linear_model import LassoLars\n",
    "from sklearn.linear_model import PassiveAggressiveRegressor\n",
    "from sklearn.linear_model import RANSACRegressor\n",
    "from sklearn.linear_model import SGDRegressor\n",
    "\n",
    "def get_models(models=dict()):\n",
    "# linear models\n",
    "    models['lr'] = LinearRegression()\n",
    "    models['lasso'] = Lasso()\n",
    "    models['ridge'] = Ridge()\n",
    "    models['en'] = ElasticNet()\n",
    "    models['huber'] = HuberRegressor()\n",
    "    models['lars'] = Lars()\n",
    "    models['llars'] = LassoLars()\n",
    "    models['pa'] = PassiveAggressiveRegressor(max_iter=1000, tol=1e-3)\n",
    "    models['ranscac'] = RANSACRegressor()\n",
    "    models['sgd'] = SGDRegressor(max_iter=1000, tol=1e-3)\n",
    "    print('Defined %d models' % len(models))\n",
    "    return models"
   ]
  }
 ],
 "metadata": {
  "kernelspec": {
   "display_name": "Python 3",
   "language": "python",
   "name": "python3"
  },
  "language_info": {
   "codemirror_mode": {
    "name": "ipython",
    "version": 3
   },
   "file_extension": ".py",
   "mimetype": "text/x-python",
   "name": "python",
   "nbconvert_exporter": "python",
   "pygments_lexer": "ipython3",
   "version": "3.7.1"
  }
 },
 "nbformat": 4,
 "nbformat_minor": 2
}
